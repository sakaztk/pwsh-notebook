{
 "cells": [
  {
   "cell_type": "code",
   "execution_count": 1,
   "metadata": {
    "ExecuteTime": {
     "end_time": "2020-01-17T05:43:17.012558Z",
     "start_time": "2020-01-17T05:43:16.439853Z"
    }
   },
   "outputs": [
    {
     "name": "stdout",
     "output_type": "stream",
     "text": [
      "\n",
      "Name                           Value\n",
      "----                           -----\n",
      "PSVersion                      7.0.3\n",
      "PSEdition                      Core\n",
      "GitCommitId                    7.0.3\n",
      "OS                             Linux 4.19.76-linuxkit #1 SMP Thu Oct 17 19:31:…\n",
      "Platform                       Unix\n",
      "PSCompatibleVersions           {1.0, 2.0, 3.0, 4.0…}\n",
      "PSRemotingProtocolVersion      2.3\n",
      "SerializationVersion           1.1.0.1\n",
      "WSManStackVersion              3.0\n",
      "\n"
     ]
    }
   ],
   "source": [
    "$psversiontable"
   ]
  },
  {
   "cell_type": "code",
   "execution_count": 2,
   "metadata": {
    "ExecuteTime": {
     "end_time": "2020-01-17T05:43:18.106667Z",
     "start_time": "2020-01-17T05:43:17.950755Z"
    }
   },
   "outputs": [
    {
     "name": "stdout",
     "output_type": "stream",
     "text": [
      "  It was not possible to find any installed .NET Core SDKs\n",
      "  Did you mean to run .NET Core SDK commands? Install a .NET Core SDK from:\n",
      "      https://aka.ms/dotnet-download\n",
      "\n",
      "Host (useful for support):\n",
      "  Version: 3.1.8\n",
      "  Commit:  9c1330dedd\n",
      "\n",
      ".NET Core SDKs installed:\n",
      "  No SDKs were found.\n",
      "\n",
      ".NET Core runtimes installed:\n",
      "  Microsoft.NETCore.App 3.1.8 [/usr/share/dotnet/shared/Microsoft.NETCore.App]\n",
      "\n",
      "To install additional .NET Core runtimes or SDKs:\n",
      "  https://aka.ms/dotnet-download\n"
     ]
    }
   ],
   "source": [
    "dotnet --info"
   ]
  },
  {
   "cell_type": "code",
   "execution_count": 3,
   "metadata": {
    "ExecuteTime": {
     "end_time": "2020-01-17T05:43:19.206720Z",
     "start_time": "2020-01-17T05:43:19.102458Z"
    }
   },
   "outputs": [
    {
     "name": "stdout",
     "output_type": "stream",
     "text": [
      "instance of OMI_Identify\n",
      "{\n",
      "    [Key] InstanceID=2FDB5542-5896-45D5-9BE9-DC04430AAABE\n",
      "    SystemName=91505ce60247\n",
      "    ProductName=OMI\n",
      "    ProductVendor=Microsoft\n",
      "    ProductVersionMajor=1\n",
      "    ProductVersionMinor=6\n",
      "    ProductVersionRevision=6\n",
      "    ProductVersionString=1.6.6-0\n",
      "    Platform=LINUX_X86_64_GNU\n",
      "    OperatingSystem=LINUX\n",
      "    Architecture=X86_64\n",
      "    Compiler=GNU\n",
      "    ConfigPrefix=GNU\n",
      "    ConfigLibDir=/opt/omi/lib\n",
      "    ConfigBinDir=/opt/omi/bin\n",
      "    ConfigIncludeDir=/opt/omi/include\n",
      "    ConfigDataDir=/opt/omi/share\n",
      "    ConfigLocalStateDir=/var/opt/omi\n",
      "    ConfigSysConfDir=/etc/opt/omi/conf\n",
      "    ConfigProviderDir=/etc/opt/omi/conf\n",
      "    ConfigLogFile=/var/opt/omi/log/omiserver.log\n",
      "    ConfigPIDFile=/var/opt/omi/run/omiserver.pid\n",
      "    ConfigRegisterDir=/etc/opt/omi/conf/omiregister\n",
      "    ConfigSchemaDir=/opt/omi/share/omischema\n",
      "    ConfigNameSpaces={root-omi, root-Microsoft-DesiredStateConfiguration, root-Microsoft-Windows-DesiredStateConfiguration}\n",
      "}\n"
     ]
    }
   ],
   "source": [
    "sudo /opt/omi/bin/omicli ei root/omi OMI_Identify"
   ]
  },
  {
   "cell_type": "code",
   "execution_count": 4,
   "metadata": {
    "ExecuteTime": {
     "end_time": "2020-01-17T05:43:20.304925Z",
     "start_time": "2020-01-17T05:43:20.149430Z"
    }
   },
   "outputs": [
    {
     "name": "stdout",
     "output_type": "stream",
     "text": [
      "instance of GetMetaConfiguration\n",
      "{\n",
      "    ReturnValue=0\n",
      "    MetaConfiguration=    instance of MSFT_DSCMetaConfiguration\n",
      "    {\n",
      "        ConfigurationModeFrequencyMins=30\n",
      "        RebootNodeIfNeeded=false\n",
      "        ConfigurationMode=ApplyAndMonitor\n",
      "        Credential=NULL\n",
      "        RefreshMode=PUSH\n",
      "        CertificateID=NULL\n",
      "        ConfigurationID=NULL\n",
      "        DownloadManagerName=NULL\n",
      "        DownloadManagerCustomData=NULL\n",
      "        RefreshFrequencyMins=1\n",
      "        AllowModuleOverwrite=false\n",
      "        LocalConfigurationManagerState=Busy\n",
      "        ConfigurationDownloadManagers=NULL\n",
      "        ResourceModuleManagers=NULL\n",
      "        ReportManagers=NULL\n",
      "        PartialConfigurations=NULL\n",
      "        ActionAfterReboot=NULL\n",
      "        DebugMode=NULL\n",
      "        LCMVersion=NULL\n",
      "        LCMCompatibleVersions=NULL\n",
      "        LCMState=NULL\n",
      "        LCMStateDetail=NULL\n",
      "        StatusRetentionTimeInDays=NULL\n",
      "        AgentId=6EB1447E-DA7B-435D-9862-C7CC17CC9DE5\n",
      "        EnableSignatureValidation=NULL\n",
      "        DisableModuleSignatureValidation=NULL\n",
      "    }\n",
      "}\n",
      "\n",
      "\n"
     ]
    }
   ],
   "source": [
    "sudo /opt/microsoft/dsc/Scripts/GetDscLocalConfigurationManager.py"
   ]
  },
  {
   "cell_type": "code",
   "execution_count": 5,
   "metadata": {
    "ExecuteTime": {
     "end_time": "2020-01-17T05:43:25.252530Z",
     "start_time": "2020-01-17T05:43:24.847398Z"
    }
   },
   "outputs": [
    {
     "name": "stdout",
     "output_type": "stream",
     "text": [
      "6.0.3\n"
     ]
    }
   ],
   "source": [
    "jupyter notebook --version"
   ]
  },
  {
   "cell_type": "code",
   "execution_count": null,
   "metadata": {},
   "outputs": [],
   "source": []
  }
 ],
 "metadata": {
  "kernelspec": {
   "display_name": "PowerShell",
   "language": "powershell",
   "name": "powershell"
  },
  "language_info": {
   "codemirror_mode": "shell",
   "file_extension": ".ps1",
   "mimetype": "text/x-sh",
   "name": "powershell"
  },
  "toc": {
   "base_numbering": 1,
   "nav_menu": {},
   "number_sections": true,
   "sideBar": true,
   "skip_h1_title": false,
   "title_cell": "Table of Contents",
   "title_sidebar": "Contents",
   "toc_cell": false,
   "toc_position": {},
   "toc_section_display": true,
   "toc_window_display": false
  }
 },
 "nbformat": 4,
 "nbformat_minor": 4
}
