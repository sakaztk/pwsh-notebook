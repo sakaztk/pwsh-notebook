{
 "cells": [
  {
   "cell_type": "code",
   "execution_count": 1,
   "metadata": {},
   "outputs": [
    {
     "name": "stdout",
     "output_type": "stream",
     "text": [
      "Selected Jupyter core packages...\r\n",
      "IPython          : 8.2.0\r\n",
      "ipykernel        : 6.13.0\r\n",
      "ipywidgets       : 7.7.0\r\n",
      "jupyter_client   : 7.2.2\r\n",
      "jupyter_core     : 4.9.2\r\n",
      "jupyter_server   : 1.16.0\r\n",
      "jupyterlab       : 3.3.4\r\n",
      "nbclient         : 0.6.0\r\n",
      "nbconvert        : 6.5.0\r\n",
      "nbformat         : 5.3.0\r\n",
      "notebook         : 6.4.10\r\n",
      "qtconsole        : 5.3.0\r\n",
      "traitlets        : 5.1.1\r\n"
     ]
    }
   ],
   "source": [
    "jupyter --version"
   ]
  },
  {
   "cell_type": "code",
   "execution_count": 2,
   "metadata": {},
   "outputs": [
    {
     "name": "stdout",
     "output_type": "stream",
     "text": [
      "Available kernels:\r\n",
      "  .net-csharp        C:\\Users\\ContainerAdministrator\\AppData\\Roaming\\jupyter\\kernels\\.net-csharp\r\n",
      "  .net-fsharp        C:\\Users\\ContainerAdministrator\\AppData\\Roaming\\jupyter\\kernels\\.net-fsharp\r\n",
      "  .net-powershell    C:\\Users\\ContainerAdministrator\\AppData\\Roaming\\jupyter\\kernels\\.net-powershell\r\n",
      "  powershell5        C:\\Python310\\share\\jupyter\\kernels\\powershell5\r\n",
      "  powershellsdk      C:\\Python310\\share\\jupyter\\kernels\\powershellSDK\r\n",
      "  python3            C:\\Python310\\share\\jupyter\\kernels\\python3\r\n"
     ]
    }
   ],
   "source": [
    "jupyter kernelspec list"
   ]
  },
  {
   "cell_type": "code",
   "execution_count": 3,
   "metadata": {},
   "outputs": [
    {
     "name": "stdout",
     "output_type": "stream",
     "text": [
      ".NET SDK (reflecting any global.json):\r\n",
      " Version:   6.0.202\r\n",
      " Commit:    f8a55617d2\r\n",
      "\r\n",
      "Runtime Environment:\r\n",
      " OS Name:     Windows\r\n",
      " OS Version:  10.0.20348\r\n",
      " OS Platform: Windows\r\n",
      " RID:         win10-x64\r\n",
      " Base Path:   C:\\Program Files\\dotnet\\sdk\\6.0.202\\\r\n",
      "\r\n",
      "Host (useful for support):\r\n",
      "  Version: 6.0.4\r\n",
      "  Commit:  be98e88c76\r\n",
      "\r\n",
      ".NET SDKs installed:\r\n",
      "  6.0.202 [C:\\Program Files\\dotnet\\sdk]\r\n",
      "\r\n",
      ".NET runtimes installed:\r\n",
      "  Microsoft.AspNetCore.App 6.0.4 [C:\\Program Files\\dotnet\\shared\\Microsoft.AspNetCore.App]\r\n",
      "  Microsoft.NETCore.App 6.0.4 [C:\\Program Files\\dotnet\\shared\\Microsoft.NETCore.App]\r\n",
      "  Microsoft.WindowsDesktop.App 6.0.4 [C:\\Program Files\\dotnet\\shared\\Microsoft.WindowsDesktop.App]\r\n",
      "\r\n",
      "To install additional .NET runtimes or SDKs:\r\n",
      "  https://aka.ms/dotnet-download\r\n"
     ]
    }
   ],
   "source": [
    "dotnet --info"
   ]
  },
  {
   "cell_type": "code",
   "execution_count": null,
   "metadata": {},
   "outputs": [],
   "source": []
  }
 ],
 "metadata": {
  "kernelspec": {
   "display_name": "PowerShell 5",
   "language": "Powershell",
   "name": "powershell5"
  },
  "language_info": {
   "codemirror_mode": "powershell",
   "file_extension": "ps1",
   "mimetype": "application/x-powershell",
   "name": "powershell",
   "nbconvert_exporter": "script",
   "pygments_lexer": "powershell",
   "version": "5.1.0"
  }
 },
 "nbformat": 4,
 "nbformat_minor": 4
}
