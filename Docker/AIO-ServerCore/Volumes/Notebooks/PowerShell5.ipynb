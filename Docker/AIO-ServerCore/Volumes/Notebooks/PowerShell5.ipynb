{
 "cells": [
  {
   "cell_type": "code",
   "execution_count": 1,
   "metadata": {},
   "outputs": [
    {
     "name": "stdout",
     "output_type": "stream",
     "text": [
      "C:\\Windows\\System32\\WindowsPowerShell\\v1.0\r\n"
     ]
    }
   ],
   "source": [
    "$PSHOME"
   ]
  },
  {
   "cell_type": "code",
   "execution_count": 2,
   "metadata": {},
   "outputs": [
    {
     "name": "stdout",
     "output_type": "stream",
     "text": [
      "\r\n",
      "Name                           Value                                                                                                                                                                    \r\n",
      "----                           -----                                                                                                                                                                    \r\n",
      "PSVersion                      5.1.20348.558                                                                                                                                                            \r\n",
      "PSEdition                      Desktop                                                                                                                                                                  \r\n",
      "PSCompatibleVersions           {1.0, 2.0, 3.0, 4.0...}                                                                                                                                                  \r\n",
      "BuildVersion                   10.0.20348.558                                                                                                                                                           \r\n",
      "CLRVersion                     4.0.30319.42000                                                                                                                                                          \r\n",
      "WSManStackVersion              3.0                                                                                                                                                                      \r\n",
      "PSRemotingProtocolVersion      2.3                                                                                                                                                                      \r\n",
      "SerializationVersion           1.1.0.1                                                                                                                                                                  \r\n",
      "\r\n",
      "\r\n"
     ]
    }
   ],
   "source": [
    "$PSVersionTable"
   ]
  },
  {
   "cell_type": "code",
   "execution_count": null,
   "metadata": {},
   "outputs": [],
   "source": []
  }
 ],
 "metadata": {
  "kernelspec": {
   "display_name": "PowerShell 5",
   "language": "Powershell",
   "name": "powershell5"
  },
  "language_info": {
   "codemirror_mode": "powershell",
   "file_extension": "ps1",
   "mimetype": "application/x-powershell",
   "name": "powershell",
   "nbconvert_exporter": "script",
   "pygments_lexer": "powershell",
   "version": "5.1.0"
  }
 },
 "nbformat": 4,
 "nbformat_minor": 4
}
