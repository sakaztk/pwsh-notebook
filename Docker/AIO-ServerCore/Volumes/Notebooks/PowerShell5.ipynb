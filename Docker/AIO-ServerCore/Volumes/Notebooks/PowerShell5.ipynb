{
 "cells": [
  {
   "cell_type": "code",
   "execution_count": 1,
   "metadata": {},
   "outputs": [
    {
     "name": "stdout",
     "output_type": "stream",
     "text": [
      "C:\\Windows\\System32\\WindowsPowerShell\\v1.0\n"
     ]
    }
   ],
   "source": [
    "$PSHOME"
   ]
  },
  {
   "cell_type": "code",
   "execution_count": 2,
   "metadata": {},
   "outputs": [
    {
     "name": "stdout",
     "output_type": "stream",
     "text": [
      "\n",
      "Name                           Value                                           \n",
      "----                           -----                                           \n",
      "PSVersion                      5.1.17763.1432                                  \n",
      "PSEdition                      Desktop                                         \n",
      "PSCompatibleVersions           {1.0, 2.0, 3.0, 4.0...}                         \n",
      "BuildVersion                   10.0.17763.1432                                 \n",
      "CLRVersion                     4.0.30319.42000                                 \n",
      "WSManStackVersion              3.0                                             \n",
      "PSRemotingProtocolVersion      2.3                                             \n",
      "SerializationVersion           1.1.0.1                                         \n",
      "\n",
      "\n"
     ]
    }
   ],
   "source": [
    "$PSVersionTable"
   ]
  },
  {
   "cell_type": "code",
   "execution_count": null,
   "metadata": {},
   "outputs": [],
   "source": []
  }
 ],
 "metadata": {
  "kernelspec": {
   "display_name": "PowerShell",
   "language": "powershell",
   "name": "powershell"
  },
  "language_info": {
   "codemirror_mode": "shell",
   "file_extension": ".ps1",
   "mimetype": "text/x-sh",
   "name": "powershell"
  }
 },
 "nbformat": 4,
 "nbformat_minor": 4
}
