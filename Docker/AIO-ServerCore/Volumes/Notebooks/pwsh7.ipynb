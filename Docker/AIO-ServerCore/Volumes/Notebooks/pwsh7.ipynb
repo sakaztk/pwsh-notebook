{
 "cells": [
  {
   "cell_type": "code",
   "execution_count": 1,
   "metadata": {},
   "outputs": [
    {
     "name": "stdout",
     "output_type": "stream",
     "text": [
      "C:\\Python310\\Lib\\site-packages\\powershellSDK_kernel\\runtimes\\win\\lib\\net6.0\r\n"
     ]
    }
   ],
   "source": [
    "$PSHOME"
   ]
  },
  {
   "cell_type": "code",
   "execution_count": 2,
   "metadata": {},
   "outputs": [
    {
     "name": "stdout",
     "output_type": "stream",
     "text": [
      "\r\n",
      "\u001b[32;1mName                           Value\u001b[0m\r\n",
      "\u001b[32;1m----                           -----\u001b[0m\r\n",
      "PSVersion                      7.2.2\r\n",
      "PSEdition                      Core\r\n",
      "GitCommitId                    7.2.2\r\n",
      "OS                             Microsoft Windows 10.0.20348\r\n",
      "Platform                       Win32NT\r\n",
      "PSCompatibleVersions           {1.0, 2.0, 3.0, 4.0…}\r\n",
      "PSRemotingProtocolVersion      2.3\r\n",
      "SerializationVersion           1.1.0.1\r\n",
      "WSManStackVersion              3.0\r\n",
      "\r\n"
     ]
    }
   ],
   "source": [
    "$PSVersionTable"
   ]
  },
  {
   "cell_type": "code",
   "execution_count": null,
   "metadata": {},
   "outputs": [],
   "source": []
  }
 ],
 "metadata": {
  "kernelspec": {
   "display_name": "PowerShell 7 (SDK)",
   "language": "Powershell",
   "name": "powershellsdk"
  },
  "language_info": {
   "codemirror_mode": "powershell",
   "file_extension": "ps1",
   "mimetype": "application/x-powershell",
   "name": "powershell",
   "nbconvert_exporter": "script",
   "pygments_lexer": "powershell",
   "version": "7.2.2"
  }
 },
 "nbformat": 4,
 "nbformat_minor": 4
}
