{
 "cells": [
  {
   "cell_type": "code",
   "execution_count": 1,
   "metadata": {
    "ExecuteTime": {
     "end_time": "2020-01-17T05:43:17.012558Z",
     "start_time": "2020-01-17T05:43:16.439853Z"
    }
   },
   "outputs": [
    {
     "data": {
      "text/html": [
       "\r\n",
       "<div>\r\n",
       "    <div id='dotnet-interactive-this-cell-152.52e98ef946bf4ed7ac83e2bc38d4f8e1' style='display: none'>\r\n",
       "        The below script needs to be able to find the current output cell; this is an easy method to get it.\r\n",
       "    </div>\r\n",
       "    <script type='text/javascript'>\r\n",
       "// ensure `require` is available globally\r\n",
       "if (typeof require !== typeof Function || typeof require.config !== typeof Function) {\r\n",
       "    let require_script = document.createElement('script');\r\n",
       "    require_script.setAttribute('src', 'https://cdnjs.cloudflare.com/ajax/libs/require.js/2.3.6/require.min.js');\r\n",
       "    require_script.setAttribute('type', 'text/javascript');\r\n",
       "    require_script.onload = function () {\r\n",
       "        loadDotnetInteractiveApi();\r\n",
       "    };\r\n",
       "\r\n",
       "    document.getElementsByTagName('head')[0].appendChild(require_script);\r\n",
       "}\r\n",
       "else {\r\n",
       "    loadDotnetInteractiveApi();\r\n",
       "}\r\n",
       "\r\n",
       "async function probeAddresses(probingAddresses) {\r\n",
       "    function timeout(ms, promise) {\r\n",
       "        return new Promise(function (resolve, reject) {\r\n",
       "            setTimeout(function () {\r\n",
       "                reject(new Error('timeout'))\r\n",
       "            }, ms)\r\n",
       "            promise.then(resolve, reject)\r\n",
       "        })\r\n",
       "    }\r\n",
       "\r\n",
       "    if (Array.isArray(probingAddresses)) {\r\n",
       "        for (let i = 0; i < probingAddresses.length; i++) {\r\n",
       "\r\n",
       "            let rootUrl = probingAddresses[i];\r\n",
       "\r\n",
       "            if (!rootUrl.endsWith('/')) {\r\n",
       "                rootUrl = `${rootUrl}/`;\r\n",
       "            }\r\n",
       "\r\n",
       "            try {\r\n",
       "                let response = await timeout(1000, fetch(`${rootUrl}discovery`, {\r\n",
       "                    method: 'POST',\r\n",
       "                    cache: 'no-cache',\r\n",
       "                    mode: 'cors',\r\n",
       "                    timeout: 1000,\r\n",
       "                    headers: {\r\n",
       "                        'Content-Type': 'text/plain'\r\n",
       "                    },\r\n",
       "                    body: probingAddresses[i]\r\n",
       "                }));\r\n",
       "\r\n",
       "                if (response.status == 200) {\r\n",
       "                    return rootUrl;\r\n",
       "                }\r\n",
       "            }\r\n",
       "            catch (e) { }\r\n",
       "        }\r\n",
       "    }\r\n",
       "}\r\n",
       "\r\n",
       "function loadDotnetInteractiveApi() {\r\n",
       "    probeAddresses([\"http://172.19.0.2:1024/\", \"http://127.0.0.1:1024/\"])\r\n",
       "        .then((root) => {\r\n",
       "            // use probing to find host url and api resources\r\n",
       "            // load interactive helpers and language services\r\n",
       "            let dotnetInteractiveRequire = require.config({\r\n",
       "                context: '152.52e98ef946bf4ed7ac83e2bc38d4f8e1',\r\n",
       "                paths: {\r\n",
       "                    'dotnet-interactive': `${root}resources`\r\n",
       "                }\r\n",
       "            }) || require;\r\n",
       "\r\n",
       "            let dotnetInteractiveExtensionsRequire = require.config({\r\n",
       "                context: '152.52e98ef946bf4ed7ac83e2bc38d4f8e1',\r\n",
       "                paths: {\r\n",
       "                    'dotnet-interactive-extensions': `${root}extensions`\r\n",
       "                }\r\n",
       "            }) || require;\r\n",
       "\r\n",
       "            if (!window.dotnetInteractiveRequire) {\r\n",
       "                window.dotnetInteractiveRequire = dotnetInteractiveRequire;\r\n",
       "            }\r\n",
       "\r\n",
       "            if (!window.dotnetInteractiveExtensionsRequire) {\r\n",
       "                window.dotnetInteractiveExtensionsRequire = dotnetInteractiveExtensionsRequire;\r\n",
       "            }\r\n",
       "\r\n",
       "            window.getExtensionRequire = function(extensionName, extensionCacheBuster) {\r\n",
       "                let paths = {};\r\n",
       "                paths[extensionName] = `${root}extensions/${extensionName}/resources/`;\r\n",
       "                \r\n",
       "                let internalRequire = require.config({\r\n",
       "                    context: extensionCacheBuster,\r\n",
       "                    paths: paths,\r\n",
       "                    urlArgs: `cacheBuster=${extensionCacheBuster}`\r\n",
       "                    }) || require;\r\n",
       "\r\n",
       "                return internalRequire\r\n",
       "            };\r\n",
       "        \r\n",
       "            dotnetInteractiveRequire([\r\n",
       "                    'dotnet-interactive/dotnet-interactive'\r\n",
       "                ],\r\n",
       "                function (dotnet) {\r\n",
       "                    dotnet.init(window);\r\n",
       "                },\r\n",
       "                function (error) {\r\n",
       "                    console.log(error);\r\n",
       "                }\r\n",
       "            );\r\n",
       "        })\r\n",
       "        .catch(error => {console.log(error);});\r\n",
       "    }\r\n",
       "    </script>\r\n",
       "</div>"
      ]
     },
     "metadata": {},
     "output_type": "display_data"
    },
    {
     "name": "stdout",
     "output_type": "stream",
     "text": [
      "\n",
      "Name                           Value\n",
      "----                           -----\n",
      "PSVersion                      7.0.2\n",
      "PSEdition                      Core\n",
      "GitCommitId                    7.0.2\n",
      "OS                             Linux 4.19.76-linuxkit #1 SMP Thu Oct 17 19:31:58 UTC 2019\n",
      "Platform                       Unix\n",
      "PSCompatibleVersions           {1.0, 2.0, 3.0, 4.0…}\n",
      "PSRemotingProtocolVersion      2.3\n",
      "SerializationVersion           1.1.0.1\n",
      "WSManStackVersion              3.0\n",
      "\n"
     ]
    }
   ],
   "source": [
    "$psversiontable"
   ]
  },
  {
   "cell_type": "code",
   "execution_count": 2,
   "metadata": {
    "ExecuteTime": {
     "end_time": "2020-01-17T05:43:18.106667Z",
     "start_time": "2020-01-17T05:43:17.950755Z"
    }
   },
   "outputs": [
    {
     "name": "stdout",
     "output_type": "stream",
     "text": [
      ".NET Core SDK (reflecting any global.json):\n",
      " Version:   3.1.402\n",
      " Commit:    9b5de826fd\n",
      "\n",
      "Runtime Environment:\n",
      " OS Name:     ubuntu\n",
      " OS Version:  18.04\n",
      " OS Platform: Linux\n",
      " RID:         ubuntu.18.04-x64\n",
      " Base Path:   /usr/share/dotnet/sdk/3.1.402/\n",
      "\n",
      "Host (useful for support):\n",
      "  Version: 3.1.8\n",
      "  Commit:  9c1330dedd\n",
      "\n",
      ".NET Core SDKs installed:\n",
      "  3.1.402 [/usr/share/dotnet/sdk]\n",
      "\n",
      ".NET Core runtimes installed:\n",
      "  Microsoft.AspNetCore.App 3.1.8 [/usr/share/dotnet/shared/Microsoft.AspNetCore.App]\n",
      "  Microsoft.NETCore.App 3.1.8 [/usr/share/dotnet/shared/Microsoft.NETCore.App]\n",
      "\n",
      "To install additional .NET Core runtimes or SDKs:\n",
      "  https://aka.ms/dotnet-download\n"
     ]
    }
   ],
   "source": [
    "dotnet --info"
   ]
  },
  {
   "cell_type": "code",
   "execution_count": 3,
   "metadata": {
    "ExecuteTime": {
     "end_time": "2020-01-17T05:43:19.206720Z",
     "start_time": "2020-01-17T05:43:19.102458Z"
    }
   },
   "outputs": [
    {
     "name": "stdout",
     "output_type": "stream",
     "text": [
      "instance of OMI_Identify\n",
      "{\n",
      "    [Key] InstanceID=2FDB5542-5896-45D5-9BE9-DC04430AAABE\n",
      "    SystemName=09cab6bfd9c2\n",
      "    ProductName=OMI\n",
      "    ProductVendor=Microsoft\n",
      "    ProductVersionMajor=1\n",
      "    ProductVersionMinor=6\n",
      "    ProductVersionRevision=6\n",
      "    ProductVersionString=1.6.6-0\n",
      "    Platform=LINUX_X86_64_GNU\n",
      "    OperatingSystem=LINUX\n",
      "    Architecture=X86_64\n",
      "    Compiler=GNU\n",
      "    ConfigPrefix=GNU\n",
      "    ConfigLibDir=/opt/omi/lib\n",
      "    ConfigBinDir=/opt/omi/bin\n",
      "    ConfigIncludeDir=/opt/omi/include\n",
      "    ConfigDataDir=/opt/omi/share\n",
      "    ConfigLocalStateDir=/var/opt/omi\n",
      "    ConfigSysConfDir=/etc/opt/omi/conf\n",
      "    ConfigProviderDir=/etc/opt/omi/conf\n",
      "    ConfigLogFile=/var/opt/omi/log/omiserver.log\n",
      "    ConfigPIDFile=/var/opt/omi/run/omiserver.pid\n",
      "    ConfigRegisterDir=/etc/opt/omi/conf/omiregister\n",
      "    ConfigSchemaDir=/opt/omi/share/omischema\n",
      "    ConfigNameSpaces={root-omi, root-Microsoft-DesiredStateConfiguration, root-Microsoft-Windows-DesiredStateConfiguration}\n",
      "}\n"
     ]
    }
   ],
   "source": [
    "sudo /opt/omi/bin/omicli ei root/omi OMI_Identify"
   ]
  },
  {
   "cell_type": "code",
   "execution_count": 4,
   "metadata": {
    "ExecuteTime": {
     "end_time": "2020-01-17T05:43:20.304925Z",
     "start_time": "2020-01-17T05:43:20.149430Z"
    }
   },
   "outputs": [
    {
     "name": "stdout",
     "output_type": "stream",
     "text": [
      "instance of GetMetaConfiguration\n",
      "{\n",
      "    ReturnValue=0\n",
      "    MetaConfiguration=    instance of MSFT_DSCMetaConfiguration\n",
      "    {\n",
      "        ConfigurationModeFrequencyMins=30\n",
      "        RebootNodeIfNeeded=false\n",
      "        ConfigurationMode=ApplyAndMonitor\n",
      "        Credential=NULL\n",
      "        RefreshMode=PUSH\n",
      "        CertificateID=NULL\n",
      "        ConfigurationID=NULL\n",
      "        DownloadManagerName=NULL\n",
      "        DownloadManagerCustomData=NULL\n",
      "        RefreshFrequencyMins=1\n",
      "        AllowModuleOverwrite=false\n",
      "        LocalConfigurationManagerState=Busy\n",
      "        ConfigurationDownloadManagers=NULL\n",
      "        ResourceModuleManagers=NULL\n",
      "        ReportManagers=NULL\n",
      "        PartialConfigurations=NULL\n",
      "        ActionAfterReboot=NULL\n",
      "        DebugMode=NULL\n",
      "        LCMVersion=NULL\n",
      "        LCMCompatibleVersions=NULL\n",
      "        LCMState=NULL\n",
      "        LCMStateDetail=NULL\n",
      "        StatusRetentionTimeInDays=NULL\n",
      "        AgentId=2AA28AD1-E868-4EDC-9E86-178D5BA7C14F\n",
      "        EnableSignatureValidation=NULL\n",
      "        DisableModuleSignatureValidation=NULL\n",
      "    }\n",
      "}\n",
      "\n",
      "\n"
     ]
    }
   ],
   "source": [
    "sudo /opt/microsoft/dsc/Scripts/GetDscLocalConfigurationManager.py"
   ]
  },
  {
   "cell_type": "code",
   "execution_count": 5,
   "metadata": {
    "ExecuteTime": {
     "end_time": "2020-01-17T05:43:25.252530Z",
     "start_time": "2020-01-17T05:43:24.847398Z"
    }
   },
   "outputs": [
    {
     "name": "stdout",
     "output_type": "stream",
     "text": [
      "6.0.3\n"
     ]
    }
   ],
   "source": [
    "jupyter notebook --version"
   ]
  },
  {
   "cell_type": "code",
   "execution_count": null,
   "metadata": {},
   "outputs": [],
   "source": []
  }
 ],
 "metadata": {
  "kernelspec": {
   "display_name": ".NET (PowerShell)",
   "language": "PowerShell",
   "name": ".net-powershell"
  },
  "language_info": {
   "file_extension": ".ps1",
   "mimetype": "text/x-powershell",
   "name": "PowerShell",
   "pygments_lexer": "powershell",
   "version": "7.0"
  },
  "toc": {
   "base_numbering": 1,
   "nav_menu": {},
   "number_sections": true,
   "sideBar": true,
   "skip_h1_title": false,
   "title_cell": "Table of Contents",
   "title_sidebar": "Contents",
   "toc_cell": false,
   "toc_position": {},
   "toc_section_display": true,
   "toc_window_display": false
  }
 },
 "nbformat": 4,
 "nbformat_minor": 4
}
