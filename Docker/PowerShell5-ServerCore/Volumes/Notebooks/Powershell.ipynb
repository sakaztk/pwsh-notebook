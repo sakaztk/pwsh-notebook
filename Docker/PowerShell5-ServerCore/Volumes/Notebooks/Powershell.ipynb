{
 "cells": [
  {
   "cell_type": "code",
   "execution_count": 1,
   "metadata": {},
   "outputs": [
    {
     "name": "stdout",
     "output_type": "stream",
     "text": [
      "\n",
      "Name                           Value                                           \n",
      "----                           -----                                           \n",
      "PSVersion                      5.1.18362.145                                   \n",
      "PSEdition                      Desktop                                         \n",
      "PSCompatibleVersions           {1.0, 2.0, 3.0, 4.0...}                         \n",
      "BuildVersion                   10.0.18362.145                                  \n",
      "CLRVersion                     4.0.30319.42000                                 \n",
      "WSManStackVersion              3.0                                             \n",
      "PSRemotingProtocolVersion      2.3                                             \n",
      "SerializationVersion           1.1.0.1                                         \n",
      "\n",
      "\n"
     ]
    }
   ],
   "source": [
    "$psversiontable"
   ]
  },
  {
   "cell_type": "code",
   "execution_count": 2,
   "metadata": {},
   "outputs": [
    {
     "name": "stdout",
     "output_type": "stream",
     "text": [
      "\n",
      "\n",
      "ActionAfterReboot              : ContinueConfiguration\n",
      "AgentId                        : 4D51BC5A-38ED-11EA-9161-9FC556F8537C\n",
      "AllowModuleOverWrite           : False\n",
      "CertificateID                  : \n",
      "ConfigurationDownloadManagers  : {}\n",
      "ConfigurationID                : \n",
      "ConfigurationMode              : ApplyAndMonitor\n",
      "ConfigurationModeFrequencyMins : 15\n",
      "Credential                     : \n",
      "DebugMode                      : {NONE}\n",
      "DownloadManagerCustomData      : \n",
      "DownloadManagerName            : \n",
      "LCMCompatibleVersions          : {1.0, 2.0}\n",
      "LCMState                       : Idle\n",
      "LCMStateDetail                 : \n",
      "LCMVersion                     : 2.0\n",
      "StatusRetentionTimeInDays      : 10\n",
      "SignatureValidationPolicy      : NONE\n",
      "SignatureValidations           : {}\n",
      "MaximumDownloadSizeMB          : 500\n",
      "PartialConfigurations          : \n",
      "RebootNodeIfNeeded             : False\n",
      "RefreshFrequencyMins           : 30\n",
      "RefreshMode                    : PUSH\n",
      "ReportManagers                 : {}\n",
      "ResourceModuleManagers         : {}\n",
      "PSComputerName                 : \n",
      "\n",
      "\n",
      "\n"
     ]
    }
   ],
   "source": [
    "Get-DscLocalConfigurationManager"
   ]
  },
  {
   "cell_type": "code",
   "execution_count": 3,
   "metadata": {},
   "outputs": [
    {
     "name": "stdout",
     "output_type": "stream",
     "text": [
      "6.0.2\n"
     ]
    }
   ],
   "source": [
    "jupyter notebook --version"
   ]
  }
 ],
 "metadata": {
  "kernelspec": {
   "display_name": "PowerShell",
   "language": "powershell",
   "name": "powershell"
  },
  "language_info": {
   "codemirror_mode": "shell",
   "file_extension": ".ps1",
   "mimetype": "text/x-sh",
   "name": "powershell"
  }
 },
 "nbformat": 4,
 "nbformat_minor": 4
}
