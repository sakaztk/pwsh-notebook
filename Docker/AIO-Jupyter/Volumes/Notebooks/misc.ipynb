{
 "cells": [
  {
   "cell_type": "code",
   "execution_count": 1,
   "metadata": {},
   "outputs": [
    {
     "data": {
      "text/html": [
       "\r\n",
       "<div>\r\n",
       "    <div id='dotnet-interactive-this-cell-451.Microsoft.DotNet.Interactive.Http.HttpPort' style='display: none'>\r\n",
       "        The below script needs to be able to find the current output cell; this is an easy method to get it.\r\n",
       "    </div>\r\n",
       "    <script type='text/javascript'>\r\n",
       "async function probeAddresses(probingAddresses) {\r\n",
       "    function timeout(ms, promise) {\r\n",
       "        return new Promise(function (resolve, reject) {\r\n",
       "            setTimeout(function () {\r\n",
       "                reject(new Error('timeout'))\r\n",
       "            }, ms)\r\n",
       "            promise.then(resolve, reject)\r\n",
       "        })\r\n",
       "    }\r\n",
       "\r\n",
       "    if (Array.isArray(probingAddresses)) {\r\n",
       "        for (let i = 0; i < probingAddresses.length; i++) {\r\n",
       "\r\n",
       "            let rootUrl = probingAddresses[i];\r\n",
       "\r\n",
       "            if (!rootUrl.endsWith('/')) {\r\n",
       "                rootUrl = `${rootUrl}/`;\r\n",
       "            }\r\n",
       "\r\n",
       "            try {\r\n",
       "                let response = await timeout(1000, fetch(`${rootUrl}discovery`, {\r\n",
       "                    method: 'POST',\r\n",
       "                    cache: 'no-cache',\r\n",
       "                    mode: 'cors',\r\n",
       "                    timeout: 1000,\r\n",
       "                    headers: {\r\n",
       "                        'Content-Type': 'text/plain'\r\n",
       "                    },\r\n",
       "                    body: probingAddresses[i]\r\n",
       "                }));\r\n",
       "\r\n",
       "                if (response.status == 200) {\r\n",
       "                    return rootUrl;\r\n",
       "                }\r\n",
       "            }\r\n",
       "            catch (e) { }\r\n",
       "        }\r\n",
       "    }\r\n",
       "}\r\n",
       "\r\n",
       "function loadDotnetInteractiveApi() {\r\n",
       "    probeAddresses([\"http://172.18.0.2:1000/\", \"http://127.0.0.1:1000/\"])\r\n",
       "        .then((root) => {\r\n",
       "        // use probing to find host url and api resources\r\n",
       "        // load interactive helpers and language services\r\n",
       "        let dotnetInteractiveRequire = require.config({\r\n",
       "        context: '451.Microsoft.DotNet.Interactive.Http.HttpPort',\r\n",
       "                paths:\r\n",
       "            {\r\n",
       "                'dotnet-interactive': `${root}resources`\r\n",
       "                }\r\n",
       "        }) || require;\r\n",
       "\r\n",
       "            window.dotnetInteractiveRequire = dotnetInteractiveRequire;\r\n",
       "\r\n",
       "            window.configureRequireFromExtension = function(extensionName, extensionCacheBuster) {\r\n",
       "                let paths = {};\r\n",
       "                paths[extensionName] = `${root}extensions/${extensionName}/resources/`;\r\n",
       "                \r\n",
       "                let internalRequire = require.config({\r\n",
       "                    context: extensionCacheBuster,\r\n",
       "                    paths: paths,\r\n",
       "                    urlArgs: `cacheBuster=${extensionCacheBuster}`\r\n",
       "                    }) || require;\r\n",
       "\r\n",
       "                return internalRequire\r\n",
       "            };\r\n",
       "        \r\n",
       "            dotnetInteractiveRequire([\r\n",
       "                    'dotnet-interactive/dotnet-interactive'\r\n",
       "                ],\r\n",
       "                function (dotnet) {\r\n",
       "                    dotnet.init(window);\r\n",
       "                },\r\n",
       "                function (error) {\r\n",
       "                    console.log(error);\r\n",
       "                }\r\n",
       "            );\r\n",
       "        })\r\n",
       "        .catch(error => {console.log(error);});\r\n",
       "    }\r\n",
       "\r\n",
       "// ensure `require` is available globally\r\n",
       "if ((typeof(require) !==  typeof(Function)) || (typeof(require.config) !== typeof(Function))) {\r\n",
       "    let require_script = document.createElement('script');\r\n",
       "    require_script.setAttribute('src', 'https://cdnjs.cloudflare.com/ajax/libs/require.js/2.3.6/require.min.js');\r\n",
       "    require_script.setAttribute('type', 'text/javascript');\r\n",
       "    \r\n",
       "    \r\n",
       "    require_script.onload = function() {\r\n",
       "        loadDotnetInteractiveApi();\r\n",
       "    };\r\n",
       "\r\n",
       "    document.getElementsByTagName('head')[0].appendChild(require_script);\r\n",
       "}\r\n",
       "else {\r\n",
       "    loadDotnetInteractiveApi();\r\n",
       "}\r\n",
       "\r\n",
       "    </script>\r\n",
       "</div>"
      ]
     },
     "metadata": {},
     "output_type": "display_data"
    },
    {
     "name": "stdout",
     "output_type": "stream",
     "text": [
      "NAME=\"Ubuntu\"\n",
      "VERSION=\"18.04.4 LTS (Bionic Beaver)\"\n",
      "ID=ubuntu\n",
      "ID_LIKE=debian\n",
      "PRETTY_NAME=\"Ubuntu 18.04.4 LTS\"\n",
      "VERSION_ID=\"18.04\"\n",
      "HOME_URL=\"https://www.ubuntu.com/\"\n",
      "SUPPORT_URL=\"https://help.ubuntu.com/\"\n",
      "BUG_REPORT_URL=\"https://bugs.launchpad.net/ubuntu/\"\n",
      "PRIVACY_POLICY_URL=\"https://www.ubuntu.com/legal/terms-and-policies/privacy-policy\"\n",
      "VERSION_CODENAME=bionic\n",
      "UBUNTU_CODENAME=bionic\n"
     ]
    }
   ],
   "source": [
    "cat /etc/os-release"
   ]
  },
  {
   "cell_type": "code",
   "execution_count": 2,
   "metadata": {},
   "outputs": [
    {
     "name": "stdout",
     "output_type": "stream",
     "text": [
      "6.0.3\n"
     ]
    }
   ],
   "source": [
    "jupyter notebook --version"
   ]
  },
  {
   "cell_type": "code",
   "execution_count": 3,
   "metadata": {},
   "outputs": [
    {
     "name": "stdout",
     "output_type": "stream",
     "text": [
      "Available kernels:\n",
      "  .net-csharp        /home/jovyan/.local/share/jupyter/kernels/.net-csharp\n",
      "  .net-fsharp        /home/jovyan/.local/share/jupyter/kernels/.net-fsharp\n",
      "  .net-powershell    /home/jovyan/.local/share/jupyter/kernels/.net-powershell\n",
      "  bash               /opt/conda/share/jupyter/kernels/bash\n",
      "  python3            /opt/conda/share/jupyter/kernels/python3\n",
      "  powershell         /usr/local/share/jupyter/kernels/powershell\n"
     ]
    }
   ],
   "source": [
    "jupyter kernelspec list"
   ]
  },
  {
   "cell_type": "code",
   "execution_count": 4,
   "metadata": {},
   "outputs": [
    {
     "name": "stdout",
     "output_type": "stream",
     "text": [
      ".NET SDK (reflecting any global.json):\n",
      " Version:   5.0.302\n",
      " Commit:    c005824e35\n",
      "\n",
      "Runtime Environment:\n",
      " OS Name:     ubuntu\n",
      " OS Version:  18.04\n",
      " OS Platform: Linux\n",
      " RID:         ubuntu.18.04-x64\n",
      " Base Path:   /usr/share/dotnet/sdk/5.0.302/\n",
      "\n",
      "Host (useful for support):\n",
      "  Version: 5.0.8\n",
      "  Commit:  35964c9215\n",
      "\n",
      ".NET SDKs installed:\n",
      "  5.0.302 [/usr/share/dotnet/sdk]\n",
      "\n",
      ".NET runtimes installed:\n",
      "  Microsoft.AspNetCore.App 5.0.8 [/usr/share/dotnet/shared/Microsoft.AspNetCore.App]\n",
      "  Microsoft.NETCore.App 5.0.8 [/usr/share/dotnet/shared/Microsoft.NETCore.App]\n",
      "\n",
      "To install additional .NET runtimes or SDKs:\n",
      "  https://aka.ms/dotnet-download\n"
     ]
    }
   ],
   "source": [
    "dotnet --info"
   ]
  },
  {
   "cell_type": "code",
   "execution_count": 5,
   "metadata": {},
   "outputs": [
    {
     "name": "stdout",
     "output_type": "stream",
     "text": [
      "instance of OMI_Identify\n",
      "{\n",
      "    [Key] InstanceID=2FDB5542-5896-45D5-9BE9-DC04430AAABE\n",
      "    SystemName=0c8fdf2ae0ab\n",
      "    ProductName=OMI\n",
      "    ProductVendor=Microsoft\n",
      "    ProductVersionMajor=1\n",
      "    ProductVersionMinor=6\n",
      "    ProductVersionRevision=8\n",
      "    ProductVersionString=1.6.8-0\n",
      "    Platform=LINUX_X86_64_GNU\n",
      "    OperatingSystem=LINUX\n",
      "    Architecture=X86_64\n",
      "    Compiler=GNU\n",
      "    ConfigPrefix=GNU\n",
      "    ConfigLibDir=/opt/omi/lib\n",
      "    ConfigBinDir=/opt/omi/bin\n",
      "    ConfigIncludeDir=/opt/omi/include\n",
      "    ConfigDataDir=/opt/omi/share\n",
      "    ConfigLocalStateDir=/var/opt/omi\n",
      "    ConfigSysConfDir=/etc/opt/omi/conf\n",
      "    ConfigProviderDir=/etc/opt/omi/conf\n",
      "    ConfigLogFile=/var/opt/omi/log/omiserver.log\n",
      "    ConfigPIDFile=/var/opt/omi/run/omiserver.pid\n",
      "    ConfigRegisterDir=/etc/opt/omi/conf/omiregister\n",
      "    ConfigSchemaDir=/opt/omi/share/omischema\n",
      "    ConfigNameSpaces={root-omi, root-Microsoft-DesiredStateConfiguration, root-Microsoft-Windows-DesiredStateConfiguration}\n",
      "}\n"
     ]
    }
   ],
   "source": [
    "sudo /opt/omi/bin/omicli ei root/omi OMI_Identify"
   ]
  },
  {
   "cell_type": "code",
   "execution_count": 6,
   "metadata": {},
   "outputs": [
    {
     "name": "stdout",
     "output_type": "stream",
     "text": [
      "instance of GetMetaConfiguration\n",
      "{\n",
      "    ReturnValue=0\n",
      "    MetaConfiguration=    instance of MSFT_DSCMetaConfiguration\n",
      "    {\n",
      "        ConfigurationModeFrequencyMins=30\n",
      "        RebootNodeIfNeeded=false\n",
      "        ConfigurationMode=ApplyAndMonitor\n",
      "        Credential=NULL\n",
      "        RefreshMode=PUSH\n",
      "        CertificateID=NULL\n",
      "        ConfigurationID=NULL\n",
      "        DownloadManagerName=NULL\n",
      "        DownloadManagerCustomData=NULL\n",
      "        RefreshFrequencyMins=1\n",
      "        AllowModuleOverwrite=false\n",
      "        LocalConfigurationManagerState=Busy\n",
      "        ConfigurationDownloadManagers=NULL\n",
      "        ResourceModuleManagers=NULL\n",
      "        ReportManagers=NULL\n",
      "        PartialConfigurations=NULL\n",
      "        ActionAfterReboot=NULL\n",
      "        DebugMode=NULL\n",
      "        LCMVersion=NULL\n",
      "        LCMCompatibleVersions=NULL\n",
      "        LCMState=NULL\n",
      "        LCMStateDetail=NULL\n",
      "        StatusRetentionTimeInDays=NULL\n",
      "        AgentId=568F7C9A-23A3-416F-8936-D145A71D16FB\n",
      "        EnableSignatureValidation=NULL\n",
      "        DisableModuleSignatureValidation=NULL\n",
      "    }\n",
      "}\n",
      "\n",
      "\n"
     ]
    }
   ],
   "source": [
    "sudo /opt/microsoft/dsc/Scripts/GetDscLocalConfigurationManager.py"
   ]
  },
  {
   "cell_type": "code",
   "execution_count": null,
   "metadata": {},
   "outputs": [],
   "source": []
  }
 ],
 "metadata": {
  "kernelspec": {
   "display_name": ".NET (PowerShell)",
   "language": "PowerShell",
   "name": ".net-powershell"
  },
  "language_info": {
   "file_extension": ".ps1",
   "mimetype": "text/x-powershell",
   "name": "PowerShell",
   "pygments_lexer": "powershell",
   "version": "7.0"
  }
 },
 "nbformat": 4,
 "nbformat_minor": 4
}
