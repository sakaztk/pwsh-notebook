{
 "cells": [
  {
   "cell_type": "code",
   "execution_count": 1,
   "metadata": {},
   "outputs": [
    {
     "name": "stdout",
     "output_type": "stream",
     "text": [
      "6.0.3\n"
     ]
    }
   ],
   "source": [
    "jupyter notebook --version"
   ]
  },
  {
   "cell_type": "code",
   "execution_count": 2,
   "metadata": {},
   "outputs": [
    {
     "name": "stdout",
     "output_type": "stream",
     "text": [
      "Available kernels:\n",
      "  .net-csharp        /home/jovyan/.local/share/jupyter/kernels/.net-csharp\n",
      "  .net-fsharp        /home/jovyan/.local/share/jupyter/kernels/.net-fsharp\n",
      "  .net-powershell    /home/jovyan/.local/share/jupyter/kernels/.net-powershell\n",
      "  python3            /opt/conda/share/jupyter/kernels/python3\n",
      "  bash               /usr/local/share/jupyter/kernels/bash\n",
      "  powershell         /usr/local/share/jupyter/kernels/powershell\n",
      "  powershell7        /usr/local/share/jupyter/kernels/powershell7\n"
     ]
    }
   ],
   "source": [
    "jupyter kernelspec list"
   ]
  },
  {
   "cell_type": "code",
   "execution_count": 3,
   "metadata": {},
   "outputs": [
    {
     "name": "stdout",
     "output_type": "stream",
     "text": [
      ".NET Core SDK (reflecting any global.json):\n",
      " Version:   3.1.402\n",
      " Commit:    9b5de826fd\n",
      "\n",
      "Runtime Environment:\n",
      " OS Name:     ubuntu\n",
      " OS Version:  18.04\n",
      " OS Platform: Linux\n",
      " RID:         ubuntu.18.04-x64\n",
      " Base Path:   /usr/share/dotnet/sdk/3.1.402/\n",
      "\n",
      "Host (useful for support):\n",
      "  Version: 3.1.8\n",
      "  Commit:  9c1330dedd\n",
      "\n",
      ".NET Core SDKs installed:\n",
      "  3.1.402 [/usr/share/dotnet/sdk]\n",
      "\n",
      ".NET Core runtimes installed:\n",
      "  Microsoft.AspNetCore.App 3.1.8 [/usr/share/dotnet/shared/Microsoft.AspNetCore.App]\n",
      "  Microsoft.NETCore.App 3.1.8 [/usr/share/dotnet/shared/Microsoft.NETCore.App]\n",
      "\n",
      "To install additional .NET Core runtimes or SDKs:\n",
      "  https://aka.ms/dotnet-download\n"
     ]
    }
   ],
   "source": [
    "dotnet --info"
   ]
  },
  {
   "cell_type": "code",
   "execution_count": 4,
   "metadata": {},
   "outputs": [
    {
     "name": "stdout",
     "output_type": "stream",
     "text": [
      "instance of OMI_Identify\n",
      "{\n",
      "    [Key] InstanceID=2FDB5542-5896-45D5-9BE9-DC04430AAABE\n",
      "    SystemName=06ad83f31c55\n",
      "    ProductName=OMI\n",
      "    ProductVendor=Microsoft\n",
      "    ProductVersionMajor=1\n",
      "    ProductVersionMinor=6\n",
      "    ProductVersionRevision=6\n",
      "    ProductVersionString=1.6.6-0\n",
      "    Platform=LINUX_X86_64_GNU\n",
      "    OperatingSystem=LINUX\n",
      "    Architecture=X86_64\n",
      "    Compiler=GNU\n",
      "    ConfigPrefix=GNU\n",
      "    ConfigLibDir=/opt/omi/lib\n",
      "    ConfigBinDir=/opt/omi/bin\n",
      "    ConfigIncludeDir=/opt/omi/include\n",
      "    ConfigDataDir=/opt/omi/share\n",
      "    ConfigLocalStateDir=/var/opt/omi\n",
      "    ConfigSysConfDir=/etc/opt/omi/conf\n",
      "    ConfigProviderDir=/etc/opt/omi/conf\n",
      "    ConfigLogFile=/var/opt/omi/log/omiserver.log\n",
      "    ConfigPIDFile=/var/opt/omi/run/omiserver.pid\n",
      "    ConfigRegisterDir=/etc/opt/omi/conf/omiregister\n",
      "    ConfigSchemaDir=/opt/omi/share/omischema\n",
      "    ConfigNameSpaces={root-omi, root-Microsoft-DesiredStateConfiguration, root-Microsoft-Windows-DesiredStateConfiguration}\n",
      "}\n"
     ]
    }
   ],
   "source": [
    "sudo /opt/omi/bin/omicli ei root/omi OMI_Identify"
   ]
  },
  {
   "cell_type": "code",
   "execution_count": 5,
   "metadata": {},
   "outputs": [
    {
     "name": "stdout",
     "output_type": "stream",
     "text": [
      "instance of GetMetaConfiguration\n",
      "{\n",
      "    ReturnValue=0\n",
      "    MetaConfiguration=    instance of MSFT_DSCMetaConfiguration\n",
      "    {\n",
      "        ConfigurationModeFrequencyMins=30\n",
      "        RebootNodeIfNeeded=false\n",
      "        ConfigurationMode=ApplyAndMonitor\n",
      "        Credential=NULL\n",
      "        RefreshMode=PUSH\n",
      "        CertificateID=NULL\n",
      "        ConfigurationID=NULL\n",
      "        DownloadManagerName=NULL\n",
      "        DownloadManagerCustomData=NULL\n",
      "        RefreshFrequencyMins=1\n",
      "        AllowModuleOverwrite=false\n",
      "        LocalConfigurationManagerState=Busy\n",
      "        ConfigurationDownloadManagers=NULL\n",
      "        ResourceModuleManagers=NULL\n",
      "        ReportManagers=NULL\n",
      "        PartialConfigurations=NULL\n",
      "        ActionAfterReboot=NULL\n",
      "        DebugMode=NULL\n",
      "        LCMVersion=NULL\n",
      "        LCMCompatibleVersions=NULL\n",
      "        LCMState=NULL\n",
      "        LCMStateDetail=NULL\n",
      "        StatusRetentionTimeInDays=NULL\n",
      "        AgentId=887020D3-B4B9-4DB4-B1D6-49D317E3C249\n",
      "        EnableSignatureValidation=NULL\n",
      "        DisableModuleSignatureValidation=NULL\n",
      "    }\n",
      "}\n",
      "\n",
      "\n"
     ]
    }
   ],
   "source": [
    "sudo /opt/microsoft/dsc/Scripts/GetDscLocalConfigurationManager.py"
   ]
  },
  {
   "cell_type": "code",
   "execution_count": null,
   "metadata": {},
   "outputs": [],
   "source": []
  }
 ],
 "metadata": {
  "kernelspec": {
   "display_name": "PowerShell",
   "language": "powershell",
   "name": "powershell"
  },
  "language_info": {
   "codemirror_mode": "shell",
   "file_extension": ".ps1",
   "mimetype": "text/x-sh",
   "name": "powershell"
  }
 },
 "nbformat": 4,
 "nbformat_minor": 4
}
