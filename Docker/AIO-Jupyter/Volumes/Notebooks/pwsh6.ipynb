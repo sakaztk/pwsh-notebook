{
 "cells": [
  {
   "cell_type": "code",
   "execution_count": 3,
   "metadata": {},
   "outputs": [
    {
     "name": "stdout",
     "output_type": "stream",
     "text": [
      "/opt/microsoft/powershell/6\n"
     ]
    }
   ],
   "source": [
    "$PSHOME"
   ]
  },
  {
   "cell_type": "code",
   "execution_count": 4,
   "metadata": {},
   "outputs": [
    {
     "name": "stdout",
     "output_type": "stream",
     "text": [
      "\n",
      "Name                           Value\n",
      "----                           -----\n",
      "PSVersion                      6.2.4\n",
      "PSEdition                      Core\n",
      "GitCommitId                    6.2.4\n",
      "OS                             Linux 4.19.76-linuxkit #1 SMP Thu Oct 17 19:31:…\n",
      "Platform                       Unix\n",
      "PSCompatibleVersions           {1.0, 2.0, 3.0, 4.0…}\n",
      "PSRemotingProtocolVersion      2.3\n",
      "SerializationVersion           1.1.0.1\n",
      "WSManStackVersion              3.0\n",
      "\n"
     ]
    }
   ],
   "source": [
    "$PSVersionTable"
   ]
  }
 ],
 "metadata": {
  "kernelspec": {
   "display_name": "PowerShell 6",
   "language": "powershell7",
   "name": "powershell6"
  },
  "language_info": {
   "codemirror_mode": "shell",
   "file_extension": ".ps1",
   "mimetype": "text/x-sh",
   "name": "powershell"
  }
 },
 "nbformat": 4,
 "nbformat_minor": 2
}
