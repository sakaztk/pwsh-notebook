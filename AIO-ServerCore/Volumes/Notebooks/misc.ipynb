{
 "cells": [
  {
   "cell_type": "code",
   "execution_count": 1,
   "metadata": {},
   "outputs": [
    {
     "name": "stdout",
     "output_type": "stream",
     "text": [
      "jupyter core     : 4.6.2\n",
      "jupyter-notebook : 6.0.3\n",
      "qtconsole        : 4.6.0\n",
      "ipython          : 7.12.0\n",
      "ipykernel        : 5.1.4\n",
      "jupyter client   : 5.3.4\n",
      "jupyter lab      : 1.2.6\n",
      "nbconvert        : 5.6.1\n",
      "ipywidgets       : 7.5.1\n",
      "nbformat         : 5.0.4\n",
      "traitlets        : 4.3.3\n"
     ]
    }
   ],
   "source": [
    "jupyter --version"
   ]
  },
  {
   "cell_type": "code",
   "execution_count": 2,
   "metadata": {},
   "outputs": [
    {
     "name": "stdout",
     "output_type": "stream",
     "text": [
      "Available kernels:\n",
      "  .net-csharp        C:\\Users\\ContainerAdministrator\\AppData\\Roaming\\jupyter\\kernels\\.net-csharp\n",
      "  .net-fsharp        C:\\Users\\ContainerAdministrator\\AppData\\Roaming\\jupyter\\kernels\\.net-fsharp\n",
      "  .net-powershell    C:\\Users\\ContainerAdministrator\\AppData\\Roaming\\jupyter\\kernels\\.net-powershell\n",
      "  powershell         C:\\Users\\ContainerAdministrator\\AppData\\Roaming\\jupyter\\kernels\\powershell\n",
      "  powershell6        C:\\Users\\ContainerAdministrator\\AppData\\Roaming\\jupyter\\kernels\\powershell6\n",
      "  powershell7        C:\\Users\\ContainerAdministrator\\AppData\\Roaming\\jupyter\\kernels\\powershell7\n",
      "  python3            c:\\python38\\share\\jupyter\\kernels\\python3\n"
     ]
    }
   ],
   "source": [
    "jupyter kernelspec list"
   ]
  },
  {
   "cell_type": "code",
   "execution_count": 3,
   "metadata": {},
   "outputs": [
    {
     "name": "stdout",
     "output_type": "stream",
     "text": [
      ".NET Core SDK (reflecting any global.json):\n",
      " Version:   3.1.101\n",
      " Commit:    b377529961\n",
      "\n",
      "Runtime Environment:\n",
      " OS Name:     Windows\n",
      " OS Version:  10.0.18363\n",
      " OS Platform: Windows\n",
      " RID:         win10-x64\n",
      " Base Path:   C:\\Program Files\\dotnet\\sdk\\3.1.101\\\n",
      "\n",
      "Host (useful for support):\n",
      "  Version: 3.1.1\n",
      "  Commit:  a1388f194c\n",
      "\n",
      ".NET Core SDKs installed:\n",
      "  3.1.101 [C:\\Program Files\\dotnet\\sdk]\n",
      "\n",
      ".NET Core runtimes installed:\n",
      "  Microsoft.AspNetCore.App 3.1.1 [C:\\Program Files\\dotnet\\shared\\Microsoft.AspNetCore.App]\n",
      "  Microsoft.NETCore.App 3.1.1 [C:\\Program Files\\dotnet\\shared\\Microsoft.NETCore.App]\n",
      "  Microsoft.WindowsDesktop.App 3.1.1 [C:\\Program Files\\dotnet\\shared\\Microsoft.WindowsDesktop.App]\n",
      "\n",
      "To install additional .NET Core runtimes or SDKs:\n",
      "  https://aka.ms/dotnet-download\n"
     ]
    }
   ],
   "source": [
    "dotnet --info"
   ]
  },
  {
   "cell_type": "code",
   "execution_count": null,
   "metadata": {},
   "outputs": [],
   "source": []
  }
 ],
 "metadata": {
  "kernelspec": {
   "display_name": "PowerShell",
   "language": "powershell",
   "name": "powershell"
  },
  "language_info": {
   "codemirror_mode": "shell",
   "file_extension": ".ps1",
   "mimetype": "text/x-sh",
   "name": "powershell"
  }
 },
 "nbformat": 4,
 "nbformat_minor": 4
}
