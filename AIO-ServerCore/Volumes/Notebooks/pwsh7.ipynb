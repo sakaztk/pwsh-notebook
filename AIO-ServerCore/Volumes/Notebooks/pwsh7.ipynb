{
 "cells": [
  {
   "cell_type": "code",
   "execution_count": 1,
   "metadata": {},
   "outputs": [
    {
     "name": "stdout",
     "output_type": "stream",
     "text": [
      "C:\\Program Files\\PowerShell\\7-preview\n"
     ]
    }
   ],
   "source": [
    "$PSHOME"
   ]
  },
  {
   "cell_type": "code",
   "execution_count": 2,
   "metadata": {},
   "outputs": [
    {
     "name": "stdout",
     "output_type": "stream",
     "text": [
      "\n",
      "Name                           Value\n",
      "----                           -----\n",
      "PSVersion                      7.0.0-rc.2\n",
      "PSEdition                      Core\n",
      "GitCommitId                    7.0.0-rc.2\n",
      "OS                             Microsoft Windows 10.0.18363\n",
      "Platform                       Win32NT\n",
      "PSCompatibleVersions           {1.0, 2.0, 3.0, 4.0…}\n",
      "PSRemotingProtocolVersion      2.3\n",
      "SerializationVersion           1.1.0.1\n",
      "WSManStackVersion              3.0\n",
      "\n"
     ]
    }
   ],
   "source": [
    "$PSVersionTable"
   ]
  }
 ],
 "metadata": {
  "kernelspec": {
   "display_name": "PowerShell7",
   "language": "powershell7",
   "name": "powershell7"
  },
  "language_info": {
   "codemirror_mode": "shell",
   "file_extension": ".ps1",
   "mimetype": "text/x-sh",
   "name": "powershell"
  }
 },
 "nbformat": 4,
 "nbformat_minor": 4
}
