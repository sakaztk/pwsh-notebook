{
 "cells": [
  {
   "cell_type": "code",
   "execution_count": null,
   "id": "77750218-8c2c-4c11-9ee5-282442c71a8a",
   "metadata": {},
   "outputs": [],
   "source": [
    "import subprocess\n",
    "import requests\n",
    "import re\n",
    "import os\n",
    "from pathlib import Path"
   ]
  },
  {
   "cell_type": "code",
   "execution_count": null,
   "id": "0b611f26-aa3e-43ec-ba2a-6d33613187db",
   "metadata": {},
   "outputs": [],
   "source": [
    "working_folder = Path('.').resolve()\n",
    "result = subprocess.run([\"jupyter\", \"kernelspec\", \"list\"], capture_output=True, text=True)\n",
    "kernel_path = None\n",
    "for line in result.stdout.splitlines():\n",
    "    if 'python3' in line:\n",
    "        parts = re.split(r'\\s+', line.strip())\n",
    "        if len(parts) > 1:\n",
    "            kernel_path = Path(parts[1]).parent\n",
    "            break\n",
    "print(f\"Install to {kernel_path}\")"
   ]
  },
  {
   "cell_type": "code",
   "execution_count": null,
   "id": "65fc412c-8cac-4f73-b945-f757a5394ed1",
   "metadata": {},
   "outputs": [],
   "source": [
    "dotnet_download_page = requests.get('https://dotnet.microsoft.com/download')\n",
    "hrefs = re.findall(r'href=\"([^\"]+)\"', dotnet_download_page.text)\n",
    "\n",
    "sdk_links = [href for href in hrefs if 'sdk' in href and 'windows-x64-installer' in href]\n",
    "versions = []\n",
    "for link in sdk_links:\n",
    "    m = re.search(r'sdk-((\\d+\\.){1,2}\\d+)-', link)\n",
    "    if m:\n",
    "        versions.append(m.group(1))\n",
    "\n",
    "latest_ver = sorted(versions, key=lambda s: [int(x) for x in s.split('.')], reverse=True)[0]\n",
    "latest_uri = None\n",
    "for link in sdk_links:\n",
    "    if f\"sdk-{latest_ver}-windows-x64-installer\" in link:\n",
    "        latest_uri = 'https://dotnet.microsoft.com' + link\n",
    "        break\n",
    "\n",
    "installer_page = requests.get(latest_uri)\n",
    "installer_hrefs = re.findall(r'href=\"([^\"]+\\.exe)\"', installer_page.text)\n",
    "file_uri = installer_hrefs[0]\n",
    "exe_path = working_folder / 'dotnet.exe'\n",
    "with requests.get(file_uri, stream=True) as r:\n",
    "    r.raise_for_status()\n",
    "    with open(exe_path, 'wb') as f:\n",
    "        for chunk in r.iter_content(chunk_size=8192):\n",
    "            f.write(chunk)"
   ]
  },
  {
   "cell_type": "code",
   "execution_count": null,
   "id": "2c0f6046-3ee3-4fcf-a9a9-f7c4d23ab39b",
   "metadata": {},
   "outputs": [],
   "source": [
    "subprocess.run([str(exe_path), '/install', '/passive', '/norestart'], check=True)"
   ]
  },
  {
   "cell_type": "code",
   "execution_count": null,
   "id": "7a01c937-e505-41cd-8c33-90961c4d44b5",
   "metadata": {},
   "outputs": [],
   "source": [
    "exe_path.unlink()"
   ]
  },
  {
   "cell_type": "code",
   "execution_count": null,
   "id": "7de306a8-b1db-4c6a-bdd7-71facc5fbecd",
   "metadata": {},
   "outputs": [],
   "source": [
    "os.environ['PATH'] = os.environ.get('PATH', '')\n",
    "proc_tool = subprocess.run(\n",
    "    [\n",
    "        'dotnet', 'tool', 'install', '-g', '--add-source',\n",
    "        'https://pkgs.dev.azure.com/dnceng/public/_packaging/dotnet-tools/nuget/v3/index.json', 'Microsoft.dotnet-interactive'\n",
    "    ],\n",
    "    capture_output=True,\n",
    "    text=True\n",
    ")\n",
    "print(proc_tool.stdout)\n",
    "print(proc_tool.stderr)"
   ]
  },
  {
   "cell_type": "code",
   "execution_count": null,
   "id": "37097824-156c-4c36-908a-94eeb3b6b13b",
   "metadata": {},
   "outputs": [],
   "source": [
    "proc_jupyter = subprocess.run(\n",
    "    ['dotnet', 'interactive', 'jupyter', 'install', '--path', str(kernel_path)],\n",
    "    capture_output=True,\n",
    "    text=True\n",
    ")\n",
    "print(proc_jupyter.stdout)\n",
    "print(proc_jupyter.stderr)"
   ]
  },
  {
   "cell_type": "code",
   "execution_count": null,
   "id": "83d3c216-3a6e-449a-83ed-3d8df151b703",
   "metadata": {},
   "outputs": [],
   "source": []
  }
 ],
 "metadata": {
  "kernelspec": {
   "display_name": "Python 3 (ipykernel)",
   "language": "python",
   "name": "python3"
  },
  "language_info": {
   "codemirror_mode": {
    "name": "ipython",
    "version": 3
   },
   "file_extension": ".py",
   "mimetype": "text/x-python",
   "name": "python",
   "nbconvert_exporter": "python",
   "pygments_lexer": "ipython3",
   "version": "3.12.11"
  }
 },
 "nbformat": 4,
 "nbformat_minor": 5
}
