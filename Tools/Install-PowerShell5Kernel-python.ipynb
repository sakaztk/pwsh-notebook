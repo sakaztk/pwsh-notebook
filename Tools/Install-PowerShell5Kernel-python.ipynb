{
 "cells": [
  {
   "cell_type": "code",
   "execution_count": null,
   "id": "77750218-8c2c-4c11-9ee5-282442c71a8a",
   "metadata": {},
   "outputs": [],
   "source": [
    "import subprocess\n",
    "import requests\n",
    "import re\n",
    "import os\n",
    "from pathlib import Path\n",
    "from zipfile import ZipFile\n",
    "from PIL import Image\n",
    "import site\n",
    "import json"
   ]
  },
  {
   "cell_type": "code",
   "execution_count": null,
   "id": "0b611f26-aa3e-43ec-ba2a-6d33613187db",
   "metadata": {},
   "outputs": [],
   "source": [
    "working_folder = Path('.').resolve()\n",
    "dotnet_type = 'runtime'\n",
    "package_path = Path(site.getusersitepackages())\n",
    "kernel_path = None\n",
    "result = subprocess.run([\"jupyter\", \"kernelspec\", \"list\"], capture_output=True, text=True)\n",
    "for line in result.stdout.splitlines():\n",
    "    if 'python3' in line:\n",
    "        parts = re.split(r'\\s+', line.strip())\n",
    "        kernel_path = Path(parts[1]).parent\n",
    "        break\n",
    "print(f\"Package path: {package_path}\")\n",
    "print(f\"Kernel path: {kernel_path}\")"
   ]
  },
  {
   "cell_type": "markdown",
   "id": "c5e29e44-ab58-4003-81af-ae1145c2b908",
   "metadata": {},
   "source": [
    "# Install .Net"
   ]
  },
  {
   "cell_type": "code",
   "execution_count": null,
   "id": "65fc412c-8cac-4f73-b945-f757a5394ed1",
   "metadata": {},
   "outputs": [],
   "source": [
    "if dotnet_type == 'sdk':\n",
    "    base_url = 'https://dotnet.microsoft.com/download'\n",
    "    page = requests.get(base_url)\n",
    "    hrefs = re.findall(r'href=\"([^\"]+)\"', page.text)\n",
    "    links = [h for h in hrefs if 'sdk' in h and 'windows-x64-installer' in h]\n",
    "    versions = [re.search(r'sdk-((\\d+\\.){1,2}\\d+)-', l).group(1) for l in links if re.search(r'sdk-((\\d+\\.){1,2}\\d+)-', l)]\n",
    "else:\n",
    "    base_url = 'https://dotnet.microsoft.com/en-us/download/dotnet/9.0/runtime'\n",
    "    page = requests.get(base_url)\n",
    "    hrefs = re.findall(r'href=\"([^\"]+)\"', page.text)\n",
    "    links = [h for h in hrefs if 'runtime' in h and 'windows-x64-installer' in h]\n",
    "    versions = [re.search(r'runtime-((\\d+\\.){1,2}\\d+)-', l).group(1) for l in links if re.search(r'runtime-((\\d+\\.){1,2}\\d+)-', l)]\n",
    "\n",
    "latest_ver = sorted(versions, key=lambda s: [int(x) for x in s.split('.')], reverse=True)[0]\n",
    "latest_uri = None\n",
    "for l in links:\n",
    "    if f\"{dotnet_type}-{latest_ver}-windows-x64-installer\" in l:\n",
    "        latest_uri = 'https://dotnet.microsoft.com' + l\n",
    "        break\n",
    "\n",
    "installer_page = requests.get(latest_uri)\n",
    "installer_hrefs = re.findall(r'href=\"([^\"]+\\.exe)\"', installer_page.text)\n",
    "file_uri = installer_hrefs[0]\n",
    "exe_path = working_folder / 'dotnet.exe'\n",
    "with requests.get(file_uri, stream=True) as r:\n",
    "    r.raise_for_status()\n",
    "    with open(exe_path, 'wb') as f:\n",
    "        for chunk in r.iter_content(chunk_size=8192):\n",
    "            f.write(chunk)"
   ]
  },
  {
   "cell_type": "code",
   "execution_count": null,
   "id": "83d3c216-3a6e-449a-83ed-3d8df151b703",
   "metadata": {},
   "outputs": [],
   "source": [
    "subprocess.run([str(exe_path), '/install', '/passive', '/norestart'], check=True)"
   ]
  },
  {
   "cell_type": "code",
   "execution_count": null,
   "id": "88586298-29a8-4455-8fd6-2a2e9d83621c",
   "metadata": {},
   "outputs": [],
   "source": [
    "exe_path.unlink()"
   ]
  },
  {
   "cell_type": "markdown",
   "id": "0154caad-55e2-4b9d-a268-8e1f657d9f66",
   "metadata": {},
   "source": [
    "# Install PowerShell Kernel"
   ]
  },
  {
   "cell_type": "code",
   "execution_count": null,
   "id": "b91bbf2b-9fe0-4230-99b2-a3a2fa852e70",
   "metadata": {},
   "outputs": [],
   "source": [
    "release_uri = 'https://github.com/sakaztk/Jupyter-PowerShellSDK/releases'\n",
    "latest_release_json = requests.get(f\"{release_uri}/latest\", headers={'Accept':'application/json'}).json()\n",
    "version_string = re.search(r'.*tag/(.*)', latest_release_json['update_url']).group(1)\n",
    "assets_page = requests.get(f\"{release_uri}/expanded_assets/{version_string}\").text\n",
    "asset_links = re.findall(r'href=\"([^\"]+PowerShell5\\.zip)\"', assets_page)\n",
    "file_uri = 'https://github.com' + asset_links[0]\n",
    "zip_path = working_folder / 'PowerShell5.zip'\n",
    "with requests.get(file_uri, stream=True) as r:\n",
    "    r.raise_for_status()\n",
    "    with open(zip_path, 'wb') as f:\n",
    "        for chunk in r.iter_content(chunk_size=8192):\n",
    "            f.write(chunk)"
   ]
  },
  {
   "cell_type": "code",
   "execution_count": null,
   "id": "526f9306-55ab-4d3a-86cf-e7927ad6d7ca",
   "metadata": {},
   "outputs": [],
   "source": [
    "install_path = package_path / 'powershell5_kernel'\n",
    "install_path.mkdir(parents=True, exist_ok=True)\n",
    "with ZipFile(zip_path, 'r') as zip_ref:\n",
    "    zip_ref.extractall(install_path)\n",
    "zip_path.unlink()\n",
    "\n",
    "kernel_dir = kernel_path / 'powershell5'\n",
    "kernel_dir.mkdir(parents=True, exist_ok=True)\n",
    "logo_url = 'https://raw.githubusercontent.com/PowerShell/PowerShell/master/assets/Powershell_64.png'\n",
    "logo_64_path = kernel_dir / 'logo-64x64.png'\n",
    "with requests.get(logo_url, stream=True) as r:\n",
    "    r.raise_for_status()\n",
    "    with open(logo_64_path, 'wb') as f:\n",
    "        for chunk in r.iter_content(8192):\n",
    "            f.write(chunk)\n",
    "\n",
    "logo_32_path = kernel_dir / 'logo-32x32.png'\n",
    "img = Image.open(logo_64_path)\n",
    "img32 = img.resize((32,32))\n",
    "img32.save(logo_32_path)\n",
    "kernel_json = {\n",
    "    \"argv\": [str(install_path / \"Jupyter_PowerShell5.exe\"), \"{connection_file}\"],\n",
    "    \"display_name\": \"PowerShell 5\",\n",
    "    \"language\": \"Powershell\"\n",
    "}\n",
    "with open(kernel_dir / 'kernel.json', 'w', encoding='utf-8') as f:\n",
    "    json.dump(kernel_json, f, indent=4)\n",
    "\n",
    "for png in install_path.glob('*.png'):\n",
    "    png.rename(kernel_dir / png.name)"
   ]
  },
  {
   "cell_type": "code",
   "execution_count": null,
   "id": "e94664e6-cff3-47bb-b89c-a9492d9790bd",
   "metadata": {},
   "outputs": [],
   "source": []
  }
 ],
 "metadata": {
  "kernelspec": {
   "display_name": "Python 3 (ipykernel)",
   "language": "python",
   "name": "python3"
  },
  "language_info": {
   "codemirror_mode": {
    "name": "ipython",
    "version": 3
   },
   "file_extension": ".py",
   "mimetype": "text/x-python",
   "name": "python",
   "nbconvert_exporter": "python",
   "pygments_lexer": "ipython3",
   "version": "3.12.11"
  }
 },
 "nbformat": 4,
 "nbformat_minor": 5
}
