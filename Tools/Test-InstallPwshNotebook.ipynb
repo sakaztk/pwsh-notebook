{
 "cells": [
  {
   "cell_type": "markdown",
   "id": "ff2cbd07-8502-41cd-94d8-528425e18ca9",
   "metadata": {},
   "source": [
    "# 定義"
   ]
  },
  {
   "cell_type": "code",
   "execution_count": null,
   "id": "943b9327-2b6a-4134-934e-4b0b03796df2",
   "metadata": {},
   "outputs": [],
   "source": [
    "$vmName = 'Test-JupyterPowerShell'\n",
    "$vmSwitchName = 'Default Switch'\n",
    "$cred = New-Object System.Management.Automation.PSCredential (\n",
    "    'sakaztk',\n",
    "    (ConvertTo-SecureString -AsPlainText -Force -String 'Passw0rd!')\n",
    ")\n",
    "$download = @{\n",
    "    #Uri  = 'https://github.com/sakaztk/pwsh-notebook/raw/master/Anaconda/Anaconda.ps1'\n",
    "    #Uri  = 'https://github.com/sakaztk/pwsh-notebook/raw/master/Miniconda/Miniconda.ps1'\n",
    "    #Uri  = 'https://github.com/sakaztk/pwsh-notebook/raw/master/Miniforge/Miniforge.ps1'\n",
    "    Uri  = 'https://github.com/sakaztk/pwsh-notebook/raw/master/PythonForWindows/PythonForWindows.ps1'\n",
    "    OutFile = 'install.ps1'\n",
    "}\n",
    "$scriptOpt = @{\n",
    "    Verbose = $true\n",
    "    CleanupDownloadFiles = $true\n",
    "    InstallPwsh7SDK = $true\n",
    "    InstallDotnetInteractive = $true\n",
    "}"
   ]
  },
  {
   "cell_type": "markdown",
   "id": "47309590-c1aa-4355-bfde-000d8a1573df",
   "metadata": {},
   "source": [
    "# 前処理"
   ]
  },
  {
   "cell_type": "markdown",
   "id": "65f5bed2-5be7-4651-b5bf-9f760debad0a",
   "metadata": {},
   "source": [
    "## WinRM設定"
   ]
  },
  {
   "cell_type": "code",
   "execution_count": null,
   "id": "1111e436-687f-4daf-a736-5f099e50fc4a",
   "metadata": {},
   "outputs": [],
   "source": [
    "$winrm = Get-Service WinRM\n",
    "if ($winrm.Status -eq 'Stopped' -and $winrm.StartType -eq 'Manual') {\n",
    "    winrm quickconfig -force\n",
    "} "
   ]
  },
  {
   "cell_type": "markdown",
   "id": "d5f89354-8242-4234-8025-7b1791420c61",
   "metadata": {},
   "source": [
    "## チェックポイント作成"
   ]
  },
  {
   "cell_type": "code",
   "execution_count": null,
   "id": "45599f00-60cd-4a51-a470-53710018d74a",
   "metadata": {},
   "outputs": [],
   "source": [
    "Checkpoint-VM -Name $vmName -SnapshotName 'BeforeTests' -Verbose -Passthru"
   ]
  },
  {
   "cell_type": "markdown",
   "id": "d54c64c9-54f4-4564-8f38-d12f10e8a70b",
   "metadata": {},
   "source": [
    "## VM起動"
   ]
  },
  {
   "cell_type": "code",
   "execution_count": null,
   "id": "ba7888ab-22f4-4a29-8031-031f5a55320c",
   "metadata": {},
   "outputs": [],
   "source": [
    "Start-VM -Name $vmName"
   ]
  },
  {
   "cell_type": "code",
   "execution_count": null,
   "id": "5f7cdf92-7dfb-41f0-92ce-db647ba34b14",
   "metadata": {},
   "outputs": [],
   "source": [
    "$retry = 0\n",
    "while ($retry -lt 300) {\n",
    "    try {\n",
    "        $dsIpAddress = (Get-VMNetworkAdapter -VMName $vmName | Where-Object {$_.SwitchName -eq 'Default Switch'}).IPAddresses |\n",
    "        Where-Object {($_ -match '^\\d{1,3}(\\.\\d{1,3}){3}$') -and ($_ -notlike '169.254*') -and ($_ -ne '0.0.0.0')}\n",
    "        Test-WSMan $dsIpAddress -ErrorAction Stop\n",
    "        break\n",
    "    } catch {\n",
    "        Start-Sleep -Seconds 10\n",
    "        $retry++\n",
    "    }\n",
    "}"
   ]
  },
  {
   "cell_type": "markdown",
   "id": "a41babf5-af36-47f8-b2c9-7aa4e9db1c5f",
   "metadata": {},
   "source": [
    "## IPアドレス取得"
   ]
  },
  {
   "cell_type": "code",
   "execution_count": null,
   "id": "71ed3d94-2254-4834-bcc1-240c1be71f98",
   "metadata": {},
   "outputs": [],
   "source": [
    "$dsIpAddress = (Get-VMNetworkAdapter -VMName $vmName | Where-Object {$_.SwitchName -eq 'Default Switch'}).IPAddresses |\n",
    "    Where-Object {($_ -match '^\\d{1,3}(\\.\\d{1,3}){3}$') -and ($_ -notlike '169.254*') -and ($_ -ne '0.0.0.0')}\n",
    "$dsIpAddress"
   ]
  },
  {
   "cell_type": "markdown",
   "id": "8dcc9c7d-e2dc-4b57-8dd2-0642aa83eeec",
   "metadata": {},
   "source": [
    "## TrustedHosts設定"
   ]
  },
  {
   "cell_type": "code",
   "execution_count": null,
   "id": "613fc0bc-5c1f-4a1d-aa2d-142a2414704a",
   "metadata": {},
   "outputs": [],
   "source": [
    "$current = (Get-Item WSMan:\\localhost\\Client\\TrustedHosts).Value\n",
    "$currentList = if ($current) { $current -split ',' | ForEach-Object { $_.Trim() } } else { @() }\n",
    "if ($currentList -notcontains $dsIpAddress -and $current -ne '*') {\n",
    "    $newValue = @($currentList) + @($dsIpAddress) -join ','\n",
    "    Set-Item WSMan:\\localhost\\Client\\TrustedHosts -Value $newValue -Force -Verbose\n",
    "}\n",
    "Get-Item WSMan:\\localhost\\Client\\TrustedHosts"
   ]
  },
  {
   "cell_type": "markdown",
   "id": "b0b69dcf-3932-4f3c-9fcd-2fedda40baa3",
   "metadata": {},
   "source": [
    "## PSSession作成"
   ]
  },
  {
   "cell_type": "code",
   "execution_count": null,
   "id": "cce4267e-5a27-4be8-a176-ea5bbd96cbf8",
   "metadata": {},
   "outputs": [],
   "source": [
    "$psSession = New-PSSession -ComputerName $dsIpAddress -Credential $cred -Verbose\n",
    "$psSession"
   ]
  },
  {
   "cell_type": "markdown",
   "id": "99a767db-a9b8-4354-928b-b611c8cb780c",
   "metadata": {},
   "source": [
    "# インストール"
   ]
  },
  {
   "cell_type": "markdown",
   "id": "0d73a4cd-a801-4972-aa3d-0fdf65ea50d1",
   "metadata": {},
   "source": [
    "## HOMEPATHに移動"
   ]
  },
  {
   "cell_type": "code",
   "execution_count": null,
   "id": "3c786528-4efc-4ede-9560-96747d68f944",
   "metadata": {
    "scrolled": true
   },
   "outputs": [],
   "source": [
    "Invoke-Command -Session $psSession -ScriptBlock {\n",
    "    Set-Location $env:HOMEPATH -Verbose -PassThru\n",
    "}"
   ]
  },
  {
   "cell_type": "markdown",
   "id": "f0d7c6ca-682b-4a90-a54d-77b1d012ac13",
   "metadata": {},
   "source": [
    "## ダウンロード"
   ]
  },
  {
   "cell_type": "code",
   "execution_count": null,
   "id": "a811d508-fa3d-4ff9-9d80-28f8c0178a57",
   "metadata": {
    "scrolled": true
   },
   "outputs": [],
   "source": [
    "Invoke-Command -Session $psSession -ScriptBlock {\n",
    "    Invoke-WebRequest -UseBasicParsing -Verbose @Using:download\n",
    "    Get-Item *.ps1\n",
    "}"
   ]
  },
  {
   "cell_type": "markdown",
   "id": "87d7f100-0717-4694-9938-0725625c9e98",
   "metadata": {},
   "source": [
    "## ExecutionPolicy"
   ]
  },
  {
   "cell_type": "code",
   "execution_count": null,
   "id": "9ce5035d-5cf3-499a-9d11-5788df127dd3",
   "metadata": {
    "scrolled": true
   },
   "outputs": [],
   "source": [
    "Invoke-Command -Session $psSession -ScriptBlock {\n",
    "    Set-ExecutionPolicy Bypass -Scope Process -Force -Verbose\n",
    "    Get-ExecutionPolicy\n",
    "}"
   ]
  },
  {
   "cell_type": "markdown",
   "id": "fca7aabc-873e-4ab3-9a7e-194d9469f49a",
   "metadata": {},
   "source": [
    "## スクリプト実行"
   ]
  },
  {
   "cell_type": "code",
   "execution_count": null,
   "id": "65475182-3de8-4564-a2a6-d315e3b2ece7",
   "metadata": {
    "scrolled": true
   },
   "outputs": [],
   "source": [
    "Invoke-Command -Session $psSession -ScriptBlock {\n",
    "    & .\\$($Using:download.OutFile) @Using:scriptOpt\n",
    "} -Verbose | ForEach-Object { Write-Host $_ }"
   ]
  },
  {
   "cell_type": "markdown",
   "id": "80072d17-7520-4933-bca5-fe7359368260",
   "metadata": {},
   "source": [
    "# 後処理"
   ]
  },
  {
   "cell_type": "markdown",
   "id": "df0f1e6c-d160-4925-9243-b5b45a5a22d3",
   "metadata": {},
   "source": [
    "## 切断"
   ]
  },
  {
   "cell_type": "code",
   "execution_count": null,
   "id": "ff8b3e19-2d19-46d4-b01a-e29f1e2db799",
   "metadata": {},
   "outputs": [],
   "source": [
    "$psSession | Remove-PSSession"
   ]
  },
  {
   "cell_type": "markdown",
   "id": "dd4e3635-14ed-457b-af21-cb64dd319db6",
   "metadata": {},
   "source": [
    "## VM停止"
   ]
  },
  {
   "cell_type": "code",
   "execution_count": null,
   "id": "eb55eb4b-d09a-4f0b-9d77-2e82613d5ed1",
   "metadata": {},
   "outputs": [],
   "source": [
    "Stop-VM -Name $vmName -TurnOff"
   ]
  },
  {
   "cell_type": "markdown",
   "id": "ff9dca5d-6b56-4920-b9d5-9d94027112a3",
   "metadata": {},
   "source": [
    "## チェックポイントリストア"
   ]
  },
  {
   "cell_type": "code",
   "execution_count": null,
   "id": "9c447ca8-ee0c-4da2-bf27-4f96b17d3109",
   "metadata": {},
   "outputs": [],
   "source": [
    "Restore-VMSnapshot -VMName $vmName -Name 'BeforeTests' -Confirm:$false -Verbose"
   ]
  },
  {
   "cell_type": "markdown",
   "id": "dec2b263-a344-4747-804d-a4d3a5413565",
   "metadata": {},
   "source": [
    "## チェックポイント削除"
   ]
  },
  {
   "cell_type": "code",
   "execution_count": null,
   "id": "15bba8e2-84d2-411d-8a44-7084fcd3c289",
   "metadata": {},
   "outputs": [],
   "source": [
    "Remove-VMSnapshot -VMName $vmName -Name 'BeforeTests'"
   ]
  },
  {
   "cell_type": "markdown",
   "id": "2eb65994-5bbe-4ea6-a5e6-b2d3b32001d8",
   "metadata": {},
   "source": [
    "## TrustedHostsから削除"
   ]
  },
  {
   "cell_type": "code",
   "execution_count": null,
   "id": "659b7934-99ac-454c-a5b5-03bbda5a60a4",
   "metadata": {},
   "outputs": [],
   "source": [
    "$current = (Get-Item WSMan:\\localhost\\Client\\TrustedHosts).Value\n",
    "if ($current -and $current -ne '*' -and $current -ne '') {\n",
    "    $hostList = $current -split \",\" | ForEach-Object { $_.Trim() }\n",
    "    if ($hostList -contains $dsIpAddress) {\n",
    "        $updatedList = ($hostList | Where-Object { $_ -ne $dsIpAddress }) -join \",\"\n",
    "        Set-Item WSMan:\\localhost\\Client\\TrustedHosts -Value $updatedList -Force\n",
    "    }\n",
    "}\n",
    "Get-Item WSMan:\\localhost\\Client\\TrustedHosts"
   ]
  },
  {
   "cell_type": "code",
   "execution_count": null,
   "id": "f8c6cbb7-d7d9-4956-a670-fe8695859d6b",
   "metadata": {},
   "outputs": [],
   "source": []
  }
 ],
 "metadata": {
  "kernelspec": {
   "display_name": "PowerShell 5",
   "language": "Powershell",
   "name": "powershell5"
  },
  "language_info": {
   "codemirror_mode": "powershell",
   "file_extension": "ps1",
   "mimetype": "application/x-powershell",
   "name": "powershell",
   "nbconvert_exporter": "script",
   "pygments_lexer": "powershell",
   "version": "5.1.0"
  }
 },
 "nbformat": 4,
 "nbformat_minor": 5
}
