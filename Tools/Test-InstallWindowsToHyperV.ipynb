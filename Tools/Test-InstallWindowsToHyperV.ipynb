{
 "cells": [
  {
   "cell_type": "markdown",
   "id": "ff2cbd07-8502-41cd-94d8-528425e18ca9",
   "metadata": {},
   "source": [
    "# 定義"
   ]
  },
  {
   "cell_type": "markdown",
   "id": "97e52576-9d41-401b-adbf-692473e7e3a1",
   "metadata": {},
   "source": [
    "## 環境定義"
   ]
  },
  {
   "cell_type": "code",
   "execution_count": null,
   "id": "943b9327-2b6a-4134-934e-4b0b03796df2",
   "metadata": {},
   "outputs": [],
   "source": [
    "$vmName       = 'Test-JupyterPowerShell'\n",
    "$isoPath      = 'C:\\pathto\\iso\\WindowsClients\\Win11_24H2_Japanese_x64.iso'\n",
    "$vhdPath      = \"$VMName.vhdx\"\n",
    "$vhdSize      = 64GB\n",
    "$vmGeneration = 2\n",
    "$vmMemory     = 4GB\n",
    "$vmProcessor  = 2\n",
    "$vmSecureBoot = $true\n",
    "$vmCheckpoint = $false\n",
    "$vmSwitchName   = 'Default Switch'\n",
    "$autounattend = '.\\autounattend'\n",
    "$userName     = 'sakaztk'\n",
    "$password     = 'Passw0rd!'\n",
    "$locale       = 'ja-JP'\n",
    "$keyboard     = '0411:00000411'\n",
    "$productKey   = 'VK7JG-NPHTM-C97JM-9MPGT-3V66T'"
   ]
  },
  {
   "cell_type": "markdown",
   "id": "b83c13fb-fcba-453f-8dca-5b9309dc4408",
   "metadata": {},
   "source": [
    "## 自動応答ファイル"
   ]
  },
  {
   "cell_type": "markdown",
   "id": "a3be3ce9-e0f7-4387-8064-ae9701f0b2be",
   "metadata": {},
   "source": [
    "### フォルダ作成"
   ]
  },
  {
   "cell_type": "code",
   "execution_count": null,
   "id": "71ed3d94-2254-4834-bcc1-240c1be71f98",
   "metadata": {},
   "outputs": [],
   "source": [
    "if (-not(Test-Path $autounattend)){New-Item -ItemType Directory -Name $autounattend}"
   ]
  },
  {
   "cell_type": "markdown",
   "id": "75ba2f2e-2134-43c2-ab76-9444340018e9",
   "metadata": {},
   "source": [
    "### 初回ログオンコマンド部分"
   ]
  },
  {
   "cell_type": "code",
   "execution_count": null,
   "id": "3c786528-4efc-4ede-9560-96747d68f944",
   "metadata": {
    "scrolled": true
   },
   "outputs": [],
   "source": [
    "$logonCommands = @(\n",
    "    @{\n",
    "        Command = 'powershell.exe -ExecutionPolicy Bypass -Command \"&amp; {Start-Sleep -Seconds 10; Get-NetConnectionProfile | Set-NetConnectionProfile -NetworkCategory Private}\"'\n",
    "        Description = 'Set network to Private'\n",
    "    }\n",
    "    @{\n",
    "        Command = 'powershell.exe -ExecutionPolicy Bypass -Command \"&amp; {Enable-PSRemoting -Force}\"'\n",
    "        Description = 'Enable PSRemoting'\n",
    "    }\n",
    "    @{\n",
    "        Command = 'powershell.exe -ExecutionPolicy Bypass -Command \"&amp; {Set-ItemProperty -Path \"HKLM:\\SYSTEM\\CurrentControlSet\\Control\\Terminal Server\" -Name fDenyTSConnections -Value 0}\"'\n",
    "        Description = 'Enable Remote Desktop'\n",
    "    }\n",
    "    @{\n",
    "        Command = 'powershell.exe -ExecutionPolicy Bypass -Command \"&amp; {Enable-NetFirewallRule -DisplayGroup \"Remote Desktop\"}\"'\n",
    "        Description = 'Enable Remote Desktop Rules'\n",
    "    }\n",
    "    @{\n",
    "        Command = 'powershell.exe -ExecutionPolicy Bypass -Command \"&amp; {Disable-LocalUser -Name \"Administrator\"}\"'\n",
    "        Description = 'Disable Built-in Administrator'\n",
    "    }\n",
    "    @{\n",
    "        Command = 'powershell.exe -ExecutionPolicy Bypass -Command \"&amp; {Set-ItemProperty \"HKLM:\\SYSTEM\\CurrentControlSet\\Services\\i8042prt\\Parameters\" -Name \"LayerDriver JPN\" -Value \"kbd106.dll\"}\"'\n",
    "        Description = 'Set keyboard to 106'\n",
    "    }\n",
    "    @{\n",
    "        Command = 'powershell.exe -ExecutionPolicy Bypass -Command \"&amp; {Restart-Computer -Force}\"'\n",
    "        Description = 'Reboot'\n",
    "    }\n",
    ")\n",
    "$xmlLogonCommands = @()\n",
    "$order = 1\n",
    "foreach ($item in $logonCommands) {\n",
    "    $xmlLogonCommands += \"    <SynchronousCommand wcm:action=`\"add`\">\"\n",
    "    $xmlLogonCommands += \"      <Order>$order</Order>\"\n",
    "    $xmlLogonCommands += \"      <CommandLine>$($item.Command)</CommandLine>\"\n",
    "    $xmlLogonCommands += \"      <Description>$($item.Description)</Description>\"\n",
    "    $xmlLogonCommands += \"    </SynchronousCommand>\"\n",
    "    $order++\n",
    "}\n",
    "$xmlLogonCommands"
   ]
  },
  {
   "cell_type": "markdown",
   "id": "0b3a4ae4-eb36-4a6a-96c8-1414a4002588",
   "metadata": {},
   "source": [
    "### xml生成"
   ]
  },
  {
   "cell_type": "code",
   "execution_count": null,
   "id": "ad63225c-f4f3-4083-8b61-0fd88a72d269",
   "metadata": {},
   "outputs": [],
   "source": [
    "$unattendXml = @\"\n",
    "<?xml version=\"1.0\" encoding=\"utf-8\"?>\n",
    "<unattend xmlns=\"urn:schemas-microsoft-com:unattend\">\n",
    "  <settings pass=\"windowsPE\">\n",
    "    <component name=\"Microsoft-Windows-International-Core-WinPE\" processorArchitecture=\"amd64\" publicKeyToken=\"31bf3856ad364e35\" language=\"neutral\" versionScope=\"nonSxS\" xmlns:wcm=\"http://schemas.microsoft.com/WMIConfig/2002/State\">\n",
    "      <InputLocale>$locale</InputLocale>\n",
    "      <SystemLocale>$locale</SystemLocale>\n",
    "      <UILanguage>$locale</UILanguage>\n",
    "      <UILanguageFallback>en-US</UILanguageFallback>\n",
    "      <UserLocale>$locale</UserLocale>\n",
    "    </component>\n",
    "    <component name=\"Microsoft-Windows-Setup\" processorArchitecture=\"amd64\" publicKeyToken=\"31bf3856ad364e35\" language=\"neutral\" versionScope=\"nonSxS\" xmlns:wcm=\"http://schemas.microsoft.com/WMIConfig/2002/State\">\n",
    "      <DiskConfiguration>\n",
    "        <Disk wcm:action=\"add\">\n",
    "          <DiskID>0</DiskID>\n",
    "          <WillWipeDisk>true</WillWipeDisk>\n",
    "          <CreatePartitions>\n",
    "            <CreatePartition wcm:action=\"add\">\n",
    "              <Order>1</Order>\n",
    "              <Type>EFI</Type>\n",
    "              <Size>100</Size>\n",
    "            </CreatePartition>\n",
    "            <CreatePartition wcm:action=\"add\">\n",
    "              <Order>2</Order>\n",
    "              <Type>MSR</Type>\n",
    "              <Size>16</Size>\n",
    "            </CreatePartition>\n",
    "            <CreatePartition wcm:action=\"add\">\n",
    "              <Order>3</Order>\n",
    "              <Type>Primary</Type>\n",
    "              <Extend>true</Extend>\n",
    "            </CreatePartition>\n",
    "          </CreatePartitions>\n",
    "          <ModifyPartitions>\n",
    "            <ModifyPartition wcm:action=\"add\">\n",
    "              <Order>1</Order>\n",
    "              <PartitionID>1</PartitionID>\n",
    "              <Format>FAT32</Format>\n",
    "              <Label>System</Label>\n",
    "            </ModifyPartition>\n",
    "            <ModifyPartition wcm:action=\"add\">\n",
    "              <Order>2</Order>\n",
    "              <PartitionID>2</PartitionID>\n",
    "            </ModifyPartition>\n",
    "            <ModifyPartition wcm:action=\"add\">\n",
    "              <Order>3</Order>\n",
    "              <PartitionID>3</PartitionID>\n",
    "              <Format>NTFS</Format>\n",
    "              <Label>Windows</Label>\n",
    "              <Letter>C</Letter>\n",
    "            </ModifyPartition>\n",
    "          </ModifyPartitions>\n",
    "        </Disk>\n",
    "        <WillShowUI>OnError</WillShowUI>\n",
    "      </DiskConfiguration>\n",
    "      <ImageInstall>\n",
    "        <OSImage>\n",
    "          <InstallFrom>\n",
    "            <MetaData wcm:action=\"add\">\n",
    "              <Key>/IMAGE/INDEX</Key>\n",
    "              <Value>1</Value>\n",
    "            </MetaData>\n",
    "          </InstallFrom>\n",
    "          <InstallTo>\n",
    "            <DiskID>0</DiskID>\n",
    "            <PartitionID>3</PartitionID>\n",
    "          </InstallTo>\n",
    "          <WillShowUI>OnError</WillShowUI>\n",
    "        </OSImage>\n",
    "      </ImageInstall>\n",
    "      <UserData>\n",
    "        <AcceptEula>true</AcceptEula>\n",
    "        <FullName>$userName</FullName>\n",
    "        <Organization>MyOrg</Organization>\n",
    "        <ProductKey>\n",
    "          <Key>$productKey</Key>\n",
    "        </ProductKey>\n",
    "      </UserData>\n",
    "    </component>\n",
    "  </settings>\n",
    "  <settings pass=\"oobeSystem\">\n",
    "    <component name=\"Microsoft-Windows-International-Core\" processorArchitecture=\"amd64\" publicKeyToken=\"31bf3856ad364e35\" language=\"neutral\" versionScope=\"nonSxS\" xmlns:wcm=\"http://schemas.microsoft.com/WMIConfig/2002/State\">\n",
    "      <InputLocale>$locale</InputLocale>\n",
    "      <SystemLocale>$locale</SystemLocale>\n",
    "      <UILanguage>$locale</UILanguage>\n",
    "      <UserLocale>$locale</UserLocale>\n",
    "    </component>\n",
    "    <component name=\"Microsoft-Windows-Shell-Setup\" processorArchitecture=\"amd64\" publicKeyToken=\"31bf3856ad364e35\" language=\"neutral\" versionScope=\"nonSxS\" xmlns:wcm=\"http://schemas.microsoft.com/WMIConfig/2002/State\">\n",
    "      <OOBE>\n",
    "        <HideEULAPage>true</HideEULAPage>\n",
    "        <HideOEMRegistrationScreen>true</HideOEMRegistrationScreen>\n",
    "        <HideWirelessSetupInOOBE>true</HideWirelessSetupInOOBE>\n",
    "        <HideOnlineAccountScreens>true</HideOnlineAccountScreens>\n",
    "        <SkipMachineOOBE>true</SkipMachineOOBE>\n",
    "        <SkipUserOOBE>true</SkipUserOOBE>\n",
    "        <NetworkLocation>Work</NetworkLocation>\n",
    "        <ProtectYourPC>1</ProtectYourPC>\n",
    "      </OOBE>\n",
    "      <UserAccounts>\n",
    "        <LocalAccounts>\n",
    "          <LocalAccount wcm:action=\"add\">\n",
    "            <Name>$userName</Name>\n",
    "            <Group>Administrators</Group>\n",
    "            <Password>\n",
    "              <Value>$password</Value>\n",
    "              <PlainText>true</PlainText>\n",
    "            </Password>\n",
    "          </LocalAccount>\n",
    "        </LocalAccounts>\n",
    "      </UserAccounts>\n",
    "      <AutoLogon>\n",
    "        <Username>$userName</Username>\n",
    "        <Enabled>true</Enabled>\n",
    "        <Password>\n",
    "          <Value>$password</Value>\n",
    "          <PlainText>true</PlainText>\n",
    "        </Password>\n",
    "      </AutoLogon>\n",
    "      <RegisteredOrganization>MyOrg</RegisteredOrganization>\n",
    "      <RegisteredOwner>$userName</RegisteredOwner>\n",
    "      <TimeZone>Tokyo Standard Time</TimeZone>\n",
    "      <FirstLogonCommands>\n",
    "        $xmlLogonCommands\n",
    "      </FirstLogonCommands>\n",
    "    </component>\n",
    "  </settings>\n",
    "  <settings pass=\"specialize\">\n",
    "    <component name=\"Microsoft-Windows-International-Core\" processorArchitecture=\"amd64\" publicKeyToken=\"31bf3856ad364e35\" language=\"neutral\" versionScope=\"nonSxS\" xmlns:wcm=\"http://schemas.microsoft.com/WMIConfig/2002/State\">\n",
    "      <InputLocale>$locale</InputLocale>\n",
    "      <SystemLocale>$locale</SystemLocale>\n",
    "      <UILanguage>$locale</UILanguage>\n",
    "      <UserLocale>$locale</UserLocale>\n",
    "    </component>\n",
    "  </settings>\n",
    "  <cpi:offlineImage cpi:source=\"wim://sources/install.wim#Windows 11 Pro\" xmlns:cpi=\"urn:schemas-microsoft-com:cpi\" />\n",
    "</unattend>\n",
    "\"@ | Out-File -FilePath '.\\autounattend\\autounattend.xml' -Encoding utf8 -Force -Verbose"
   ]
  },
  {
   "cell_type": "markdown",
   "id": "a24409ce-e7ca-4294-b752-731bdf5d7549",
   "metadata": {},
   "source": [
    "# 構築"
   ]
  },
  {
   "cell_type": "markdown",
   "id": "e06bcc9a-7a3f-459f-b4ef-29e4c891b5d5",
   "metadata": {},
   "source": [
    "## VHD作成"
   ]
  },
  {
   "cell_type": "code",
   "execution_count": null,
   "id": "9293c1f6-a897-4dfa-91f2-3d7c37989c9d",
   "metadata": {},
   "outputs": [],
   "source": [
    "New-VHD -Path $vhdPath -SizeBytes $vhdSize -Dynamic -Verbose"
   ]
  },
  {
   "cell_type": "markdown",
   "id": "a1ee1ca9-524e-4aa6-a61e-b6979c1062c3",
   "metadata": {},
   "source": [
    "## VM作成"
   ]
  },
  {
   "cell_type": "code",
   "execution_count": null,
   "id": "2ae565c7-e4d3-4e1c-abbf-13eaa5a1e423",
   "metadata": {},
   "outputs": [],
   "source": [
    "New-VM -Name $vmName -MemoryStartupBytes $vmMemory -Generation $vmGeneration -SwitchName $vmSwitchName -Verbose"
   ]
  },
  {
   "cell_type": "code",
   "execution_count": null,
   "id": "d4043551-321a-44f1-9c42-ecd0d547f39b",
   "metadata": {},
   "outputs": [],
   "source": [
    "Set-VM -VMName $vmName -AutomaticCheckpointsEnabled $vmCheckpoint -Verbose"
   ]
  },
  {
   "cell_type": "code",
   "execution_count": null,
   "id": "db653625-6620-4473-91c7-fe0b6f14c215",
   "metadata": {},
   "outputs": [],
   "source": [
    "Set-VMProcessor -VMName $vmName -Count $vmProcessor -Verbose"
   ]
  },
  {
   "cell_type": "code",
   "execution_count": null,
   "id": "9af68829-6f91-4d53-b49d-de9a736ba9c7",
   "metadata": {},
   "outputs": [],
   "source": [
    "Set-VMFirmware -VMName $vmName -EnableSecureBoot On -Verbose"
   ]
  },
  {
   "cell_type": "code",
   "execution_count": null,
   "id": "269976ef-961b-462b-827d-366b95063d16",
   "metadata": {},
   "outputs": [],
   "source": [
    "Set-VMKeyProtector -VMName $vmName -NewLocalKeyProtector -Verbose"
   ]
  },
  {
   "cell_type": "code",
   "execution_count": null,
   "id": "5483e708-5b21-457d-ac57-d9f1df9e9e19",
   "metadata": {},
   "outputs": [],
   "source": [
    "Enable-VMTPM -VMName $vmName -Verbose"
   ]
  },
  {
   "cell_type": "code",
   "execution_count": null,
   "id": "666d59f0-b8e5-4d5f-b527-917247993c1c",
   "metadata": {},
   "outputs": [],
   "source": [
    "Add-VMHardDiskDrive -VMName $vmName -Path $vhdPath -Verbose"
   ]
  },
  {
   "cell_type": "code",
   "execution_count": null,
   "id": "cd70ce95-9801-42e4-b339-2494b866e856",
   "metadata": {},
   "outputs": [],
   "source": [
    "$dvdDrive = Add-VMDvdDrive -VMName $vmName -Path $isoPath -Verbose -Passthru"
   ]
  },
  {
   "cell_type": "markdown",
   "id": "24b6973d-507b-4d16-b404-1e953c2fe764",
   "metadata": {},
   "source": [
    "## 自動応答ファイルをisoファイルに格納してDVDとしてマウントする\n",
    "WindowsADKのoscdimg.exeを使用"
   ]
  },
  {
   "cell_type": "code",
   "execution_count": null,
   "id": "0ca7d8a6-5f92-4ff2-98ae-b182ba95d449",
   "metadata": {},
   "outputs": [],
   "source": [
    "$packageId = 'Microsoft.WindowsADK'\n",
    "$installed = winget list --id $packageId | Select-String $packageId\n",
    "$existsUpdate = winget update | Select-String $packageId\n",
    "if(-not($installed)) {\n",
    "    winget install $packageId --accept-package-agreements --accept-source-agreements\n",
    "}\n",
    "elseif($existsUpdate) {\n",
    "    winget update $packageId --accept-package-agreements --accept-source-agreements\n",
    "}\n",
    "else{'Windows ADK is up to date.'}"
   ]
  },
  {
   "cell_type": "code",
   "execution_count": null,
   "id": "41479d1f-8825-4a04-8641-a097fa81d948",
   "metadata": {},
   "outputs": [],
   "source": [
    "$tempISO = 'autounattend.iso'\n",
    "if (Test-Path $tempISO) { Remove-Item $tempISO -Force -Verbose }"
   ]
  },
  {
   "cell_type": "code",
   "execution_count": null,
   "id": "cd3f2a14-1661-439d-9aae-aa9c1b5341c1",
   "metadata": {
    "scrolled": true
   },
   "outputs": [],
   "source": [
    "$cd = \"${env:ProgramFiles(x86)}\\Windows Kits\\10\\Assessment and Deployment Kit\\Deployment Tools\\amd64\\Oscdimg\\oscdimg.exe\"\n",
    "& $cd -n -m $autounattend $tempISO"
   ]
  },
  {
   "cell_type": "code",
   "execution_count": null,
   "id": "0a8519ed-e9e9-4eb9-b1a8-f6fa9493d894",
   "metadata": {},
   "outputs": [],
   "source": [
    "$auDrive = Add-VMDvdDrive -VMName $vmName -Path $tempISO -Verbose -Passthru"
   ]
  },
  {
   "cell_type": "markdown",
   "id": "59748adf-f38c-4646-9719-bcae3d0f5b53",
   "metadata": {},
   "source": [
    "## BootOrderを変更"
   ]
  },
  {
   "cell_type": "code",
   "execution_count": null,
   "id": "22c923a2-26ae-4376-a02b-d3a5f7b30fac",
   "metadata": {},
   "outputs": [],
   "source": [
    "$hdDrive = Get-VMHardDiskDrive -VMName $vmName"
   ]
  },
  {
   "cell_type": "code",
   "execution_count": null,
   "id": "4152cc8d-90f8-451b-af72-ee90d66b447a",
   "metadata": {},
   "outputs": [],
   "source": [
    "$networkAdapter = Get-VMNetworkAdapter -vmName $vmName"
   ]
  },
  {
   "cell_type": "code",
   "execution_count": null,
   "id": "98516511-fe51-4f13-a879-d4460d677575",
   "metadata": {},
   "outputs": [],
   "source": [
    "Set-VMFirmware -VMName $vmName -BootOrder $auDrive, $dvdDrive, $hdDrive, $networkAdapter -Verbose"
   ]
  },
  {
   "cell_type": "code",
   "execution_count": null,
   "id": "5fdbbdd9-0f60-414d-a80a-e93156a8961a",
   "metadata": {},
   "outputs": [],
   "source": [
    "(Get-VMFirmware -VMName $vmName).BootOrder.Device.Path"
   ]
  },
  {
   "cell_type": "markdown",
   "id": "d318d624-b4d8-4ace-9c48-85ecbc60f76f",
   "metadata": {},
   "source": [
    "## VM起動\n",
    "OSインストールする"
   ]
  },
  {
   "cell_type": "code",
   "execution_count": null,
   "id": "2f1b131f-c3e7-4c27-aa33-0ffa848d7087",
   "metadata": {},
   "outputs": [],
   "source": [
    "Start-VM -Name $VMName -Verbose -Passthru"
   ]
  },
  {
   "cell_type": "code",
   "execution_count": null,
   "id": "32269aac-8d48-481f-83c1-44fa9ce002a8",
   "metadata": {},
   "outputs": [],
   "source": [
    "$retry = 0\n",
    "while ($retry -lt 300) {\n",
    "    try {\n",
    "        $dsIpAddress = (Get-VMNetworkAdapter -VMName $vmName | Where-Object {$_.SwitchName -eq 'Default Switch'}).IPAddresses |\n",
    "        Where-Object {($_ -match '^\\d{1,3}(\\.\\d{1,3}){3}$') -and ($_ -notlike '169.254*') -and ($_ -ne '0.0.0.0')}\n",
    "        Test-WSMan $dsIpAddress -ErrorAction Stop\n",
    "        break\n",
    "    } catch {\n",
    "        Start-Sleep -Seconds 10\n",
    "        $retry++\n",
    "    }\n",
    "}"
   ]
  },
  {
   "cell_type": "markdown",
   "id": "233a57dd-3083-438a-9cf7-2a76f626b4bf",
   "metadata": {},
   "source": [
    "## DVDドライブ調整"
   ]
  },
  {
   "cell_type": "markdown",
   "id": "e8b1315e-9778-4945-9108-7f04202a8b33",
   "metadata": {},
   "source": [
    "### インストーラーはアンマウント"
   ]
  },
  {
   "cell_type": "code",
   "execution_count": null,
   "id": "738e5345-7e42-4800-a34c-a0cc852fd924",
   "metadata": {},
   "outputs": [],
   "source": [
    "Get-VMDvdDrive -VMName $vmName | Where-Object {\n",
    "    $_.Path -like \"*$isoPath*\"\n",
    "} | Set-VMDvdDrive -Path $null -Verbose"
   ]
  },
  {
   "cell_type": "markdown",
   "id": "2abbc5cd-ce36-4ea1-b4b6-c93247005300",
   "metadata": {},
   "source": [
    "### 自動応答ファイルはドライブ削除"
   ]
  },
  {
   "cell_type": "code",
   "execution_count": null,
   "id": "835b1cbc-f46f-4f78-ac8b-6986119905f8",
   "metadata": {},
   "outputs": [],
   "source": [
    "Get-VMDvdDrive -VMName $vmName | Where-Object {\n",
    "    $_.Path -like \"*$tempISO*\"\n",
    "} | Remove-VMDvdDrive -Verbose"
   ]
  },
  {
   "cell_type": "code",
   "execution_count": null,
   "id": "21382492-01cb-42e5-a6d8-e40e3f23b7c1",
   "metadata": {},
   "outputs": [],
   "source": []
  }
 ],
 "metadata": {
  "kernelspec": {
   "display_name": "PowerShell 5",
   "language": "Powershell",
   "name": "powershell5"
  },
  "language_info": {
   "codemirror_mode": "powershell",
   "file_extension": "ps1",
   "mimetype": "application/x-powershell",
   "name": "powershell",
   "nbconvert_exporter": "script",
   "pygments_lexer": "powershell",
   "version": "5.1.0"
  }
 },
 "nbformat": 4,
 "nbformat_minor": 5
}
