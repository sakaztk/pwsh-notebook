{
 "cells": [
  {
   "cell_type": "code",
   "execution_count": null,
   "id": "020081cf-fca4-4169-909c-150c28ede5b1",
   "metadata": {},
   "outputs": [],
   "source": [
    "$workingFolder = '.'\n",
    "$kernelPath = $((jupyter kernelspec list | Select-String 'python3' | ForEach-Object { ($_ -replace '^\\s+', '') -split '\\s+' })[1] | Split-Path)\n",
    "Write-Host \"Install to $kernelPath\""
   ]
  },
  {
   "cell_type": "code",
   "execution_count": null,
   "id": "db36a52b-ffce-44e3-b61e-3d05db72d38a",
   "metadata": {},
   "outputs": [],
   "source": [
    "$ProgressPreference = 'SilentlyContinue'\n",
    "$links = (Invoke-WebRequest -Uri 'https://dotnet.microsoft.com/download' -UseBasicParsing).Links.href\n",
    "$latestVer = (($links | Select-String -Pattern '.*sdk.*windows-x64-installer') -replace '.*sdk-(([0-9]+\\.){1}[0-9]+(\\.[0-9]+)?)-.*', '$1' | Measure-Object -Maximum).Maximum\n",
    "$latestUri = 'https://dotnet.microsoft.com' + ($links | Select-String -Pattern \".*sdk-$latestVer-windows-x64-installer\" | Get-Unique).Tostring().Trim()\n",
    "$fileUri = ((Invoke-WebRequest -Uri $latestUri -UseBasicParsing).Links.href | Select-String -Pattern '.*\\.exe' | Get-Unique).Tostring().Trim()\n",
    "Invoke-WebRequest -Uri $fileUri -UseBasicParsing -OutFile (Join-Path $workingFolder 'dotnet.exe') -Verbose"
   ]
  },
  {
   "cell_type": "code",
   "execution_count": null,
   "id": "91d22f87-8190-4fb7-a3e6-b25067281054",
   "metadata": {},
   "outputs": [],
   "source": [
    "Start-Process -FilePath (Join-Path $WorkingFolder 'dotnet.exe') -ArgumentList '/install /passive /norestart' -Wait"
   ]
  },
  {
   "cell_type": "code",
   "execution_count": null,
   "id": "b8e02772-3c2b-464b-8690-294f1a83823d",
   "metadata": {},
   "outputs": [],
   "source": [
    "Remove-Item (Join-Path $WorkingFolder 'dotnet.exe') -Force -Verbose"
   ]
  },
  {
   "cell_type": "code",
   "execution_count": null,
   "id": "f46083e6-f12d-4c28-b96d-fa684d79ebd2",
   "metadata": {},
   "outputs": [],
   "source": [
    "$env:Path = [System.Environment]::GetEnvironmentVariable(\"Path\",\"Machine\") + \";\" + [System.Environment]::GetEnvironmentVariable(\"Path\",\"User\")\n",
    "dotnet tool install -g --add-source \"https://pkgs.dev.azure.com/dnceng/public/_packaging/dotnet-tools/nuget/v3/index.json\" Microsoft.dotnet-interactive\n",
    "dotnet interactive jupyter install --path \"$kernelPath\""
   ]
  },
  {
   "cell_type": "code",
   "execution_count": null,
   "id": "80639292-6a14-4902-8ade-23816b699bc9",
   "metadata": {},
   "outputs": [],
   "source": []
  }
 ],
 "metadata": {
  "kernelspec": {
   "display_name": "PowerShell 5",
   "language": "Powershell",
   "name": "powershell5"
  },
  "language_info": {
   "codemirror_mode": "powershell",
   "file_extension": "ps1",
   "mimetype": "application/x-powershell",
   "name": "powershell",
   "nbconvert_exporter": "script",
   "pygments_lexer": "powershell",
   "version": "5.1.0"
  }
 },
 "nbformat": 4,
 "nbformat_minor": 5
}
