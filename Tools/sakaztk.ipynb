{
 "cells": [
  {
   "cell_type": "code",
   "execution_count": null,
   "metadata": {},
   "outputs": [],
   "source": [
    "Set-ItemProperty `\n",
    "    -path 'HKLM:\\SYSTEM\\CurrentControlSet\\Control\\FileSystem' `\n",
    "    -Name 'LongPathsEnabled' `\n",
    "    -value 1 `\n",
    "    -Type DWord `\n",
    "    -Force"
   ]
  },
  {
   "cell_type": "code",
   "execution_count": null,
   "metadata": {},
   "outputs": [],
   "source": [
    "Set-Item WSMan:\\localhost\\Client\\TrustedHosts -Value '*' -Force"
   ]
  },
  {
   "cell_type": "code",
   "execution_count": null,
   "metadata": {},
   "outputs": [],
   "source": [
    "pip install ansible"
   ]
  },
  {
   "cell_type": "code",
   "execution_count": null,
   "metadata": {},
   "outputs": [],
   "source": [
    "pip install paramiko"
   ]
  },
  {
   "cell_type": "code",
   "execution_count": null,
   "metadata": {},
   "outputs": [],
   "source": [
    "pip install netmiko"
   ]
  },
  {
   "cell_type": "code",
   "execution_count": null,
   "metadata": {},
   "outputs": [],
   "source": [
    "pip install scp"
   ]
  },
  {
   "cell_type": "code",
   "execution_count": null,
   "metadata": {},
   "outputs": [],
   "source": [
    "pip install pyserial"
   ]
  },
  {
   "cell_type": "code",
   "execution_count": null,
   "metadata": {},
   "outputs": [],
   "source": [
    "pip install pywin32"
   ]
  },
  {
   "cell_type": "code",
   "execution_count": null,
   "metadata": {},
   "outputs": [],
   "source": [
    "pip install selenium"
   ]
  },
  {
   "cell_type": "code",
   "execution_count": null,
   "metadata": {},
   "outputs": [],
   "source": [
    "$chromeVer = (Get-Item (Get-ItemProperty 'HKLM:\\SOFTWARE\\Microsoft\\Windows\\CurrentVersion\\App Paths\\chrome.exe').'(Default)').VersionInfo.ProductVersion\n",
    "$chromeBuild = $chromeVer -replace '(\\d*\\.\\d*\\.\\d*)\\..*','$1'\n",
    "$content = Invoke-WebRequest -uri \"https://chromedriver.chromium.org/downloads\" -UseBasicParsing\n",
    "$driverLatestUri = ($content.links.href | Select-String -Pattern \"path=$chromeBuild\" | Get-Unique | Sort-Object -Descending)[0]\n",
    "$driverVer = $driverLatestUri -replace \".*($chromeBuild.\\d*).*\",'$1'\n",
    "pip install chromedriver-binary==$driverVer"
   ]
  }
 ],
 "metadata": {
  "kernelspec": {
   "display_name": "PowerShell",
   "language": "powershell",
   "name": "powershell"
  },
  "language_info": {
   "codemirror_mode": "shell",
   "file_extension": ".ps1",
   "mimetype": "text/x-sh",
   "name": "powershell"
  }
 },
 "nbformat": 4,
 "nbformat_minor": 4
}
