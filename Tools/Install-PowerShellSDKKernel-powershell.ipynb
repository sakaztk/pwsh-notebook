{
 "cells": [
  {
   "cell_type": "code",
   "execution_count": null,
   "id": "020081cf-fca4-4169-909c-150c28ede5b1",
   "metadata": {},
   "outputs": [],
   "source": [
    "$workingFolder = '.'\n",
    "$dotnet = 'runtime' #need .Net SDK or Runtime\n",
    "$packagePath = $(python -c \"import site; print(site.getusersitepackages())\")\n",
    "$kernelPath = $((jupyter kernelspec list | Select-String 'python3' | ForEach-Object { ($_ -replace '^\\s+', '') -split '\\s+' })[1] | Split-Path)\n",
    "\"Package path: $packagePath\"\n",
    "\"Kernel path: $kernelPath\""
   ]
  },
  {
   "cell_type": "markdown",
   "id": "0484b4f9-de7f-4d73-92c5-70080487789a",
   "metadata": {},
   "source": [
    "# Install .Net"
   ]
  },
  {
   "cell_type": "code",
   "execution_count": null,
   "id": "db36a52b-ffce-44e3-b61e-3d05db72d38a",
   "metadata": {},
   "outputs": [],
   "source": [
    "$ProgressPreference = 'SilentlyContinue'\n",
    "if ($dotnet -eq 'sdk') {\n",
    "    $links = (Invoke-WebRequest -Uri 'https://dotnet.microsoft.com/download' -UseBasicParsing).Links.href\n",
    "    $latestVer = (($links | Select-String -Pattern '.*sdk.*windows-x64-installer') -replace '.*sdk-(([0-9]+\\.){1}[0-9]+(\\.[0-9]+)?)-.*', '$1' | Measure-Object -Maximum).Maximum\n",
    "    $latestUri = 'https://dotnet.microsoft.com' + ($links | Select-String -Pattern \".*sdk-$latestVer-windows-x64-installer\" | Get-Unique).Tostring().Trim()\n",
    "    $fileUri = ((Invoke-WebRequest -Uri $latestUri -UseBasicParsing).Links.href | Select-String -Pattern '.*\\.exe' | Get-Unique).Tostring().Trim()\n",
    "    Invoke-WebRequest -Uri $fileUri -UseBasicParsing -OutFile (Join-Path $WorkingFolder 'dotnet.exe') -Verbose\n",
    "}\n",
    "else {\n",
    "    $links = (Invoke-WebRequest -Uri 'https://dotnet.microsoft.com/en-us/download/dotnet/9.0/runtime' -UseBasicParsing).Links.href\n",
    "    $latestVer = (($links | Select-String -Pattern '.*runtime.*windows-x64-installer') -replace '.*runtime-(([0-9]+\\.){1}[0-9]+(\\.[0-9]+)?)-.*', '$1' | Measure-Object -Maximum).Maximum\n",
    "    $latestUri = 'https://dotnet.microsoft.com' + ($links | Select-String -Pattern \".*runtime-$latestVer-windows-x64-installer\" | Get-Unique).Tostring().Trim()\n",
    "    $fileUri = ((Invoke-WebRequest -Uri $latestUri -UseBasicParsing).Links.href | Select-String -Pattern '.*\\.exe' | Get-Unique).Tostring().Trim()\n",
    "    Invoke-WebRequest -Uri $fileUri -UseBasicParsing -OutFile (Join-Path $WorkingFolder 'dotnet.exe') -Verbose\n",
    "}"
   ]
  },
  {
   "cell_type": "code",
   "execution_count": null,
   "id": "91d22f87-8190-4fb7-a3e6-b25067281054",
   "metadata": {},
   "outputs": [],
   "source": [
    "Start-Process -FilePath (Join-Path $WorkingFolder 'dotnet.exe') -ArgumentList '/install /passive /norestart' -Wait"
   ]
  },
  {
   "cell_type": "code",
   "execution_count": null,
   "id": "b8e02772-3c2b-464b-8690-294f1a83823d",
   "metadata": {},
   "outputs": [],
   "source": [
    "Remove-Item (Join-Path $WorkingFolder 'dotnet.exe') -Force -Verbose"
   ]
  },
  {
   "cell_type": "markdown",
   "id": "7b95bc2c-46db-4f7e-8843-32a2836f14df",
   "metadata": {},
   "source": [
    "## Install PowerShell SDK Kernel"
   ]
  },
  {
   "cell_type": "code",
   "execution_count": null,
   "id": "cac3ee16-8f9c-4541-87fd-71f29f6f54e3",
   "metadata": {},
   "outputs": [],
   "source": [
    "$releaseURI = 'https://github.com/sakaztk/Jupyter-PowerShellSDK/releases'\n",
    "$latestRelease = (Invoke-WebRequest -Uri \"$releaseURI/latest\" -UseBasicParsing -Headers @{'Accept'='application/json'}| ConvertFrom-Json).update_url\n",
    "$versionString = $latestRelease -replace '.*tag/(.*)', '$1'\n",
    "$links = (Invoke-WebRequest -Uri \"$releaseURI/expanded_assets/$($versionString)\" -UseBasicParsing).Links.href\n",
    "$fileUri = 'https://github.com' + ( $links | Select-String -Pattern 'Jupyter-PowerShellSDK-7.*\\.zip' | Get-Unique).Tostring().Trim()\n",
    "Invoke-WebRequest -uri $fileUri -UseBasicParsing -OutFile (Join-Path $WorkingFolder 'PowerShellSDK.zip') -Verbose"
   ]
  },
  {
   "cell_type": "code",
   "execution_count": null,
   "id": "9339d59e-a926-4086-9562-47c9d869f60c",
   "metadata": {},
   "outputs": [],
   "source": [
    "$installPath = Join-Path $packagePath 'powershellSDK_kernel'\n",
    "Expand-Archive -Path (Join-Path $WorkingFolder 'PowerShellSDK.zip') -DestinationPath $installPath -Force\n",
    "New-Item -ItemType Directory -Path (Join-Path $kernelPath '\\powershellSDK\\') -Force\n",
    "Invoke-WebRequest -UseBasicParsing -Verbose -Uri 'https://raw.githubusercontent.com/PowerShell/PowerShell/master/assets/Powershell_black_64.png' -OutFile (Join-Path $kernelPath '\\powershellSDK\\logo-64x64.png')\n",
    "Add-Type -AssemblyName System.Drawing\n",
    "$image = [System.Drawing.Image]::FromFile((Join-Path $kernelPath '\\powershellSDK\\logo-64x64.png'))\n",
    "$bitmap32 = New-Object System.Drawing.Bitmap(32, 32)\n",
    "[System.Drawing.Graphics]::FromImage($bitmap32).DrawImage($image, 0, 0, 32, 32)\n",
    "$bitmap32.Save((Join-Path $kernelPath '\\powershellSDK\\logo-32x32.png'), [System.Drawing.Imaging.ImageFormat]::Png)\n",
    "@\"\n",
    "{\n",
    "    \"argv\": [\n",
    "        \"$($installPath.replace('\\','/'))/Jupyter_PowerShellSDK.exe\",\n",
    "        \"{connection_file}\"\n",
    "    ],\n",
    "    \"display_name\": \"PowerShell 7 (SDK)\",\n",
    "    \"language\": \"Powershell\"\n",
    "}\n",
    "\"@ | Set-Content -Path (Join-Path $kernelPath '\\powershellSDK\\kernel.json')\n",
    "Move-Item -Path (Join-Path $installPath '*.png') -Destination (Join-Path $kernelPath '\\powershellSDK\\') -Force\n",
    "if ($CleanupDownloadFiles) {\n",
    "    Remove-Item (Join-Path $WorkingFolder 'PowerShellSDK.zip') -Force\n",
    "}"
   ]
  },
  {
   "cell_type": "code",
   "execution_count": null,
   "id": "525b53e4-978b-43de-80cd-6314c79f7fee",
   "metadata": {},
   "outputs": [],
   "source": [
    "Remove-Item (Join-Path $WorkingFolder 'PowerShellSDK.zip') -Force"
   ]
  },
  {
   "cell_type": "code",
   "execution_count": null,
   "id": "55dc5b5a-8cd9-47ee-b8c6-94c8da09a032",
   "metadata": {},
   "outputs": [],
   "source": []
  }
 ],
 "metadata": {
  "kernelspec": {
   "display_name": "PowerShell 5",
   "language": "Powershell",
   "name": "powershell5"
  },
  "language_info": {
   "codemirror_mode": "powershell",
   "file_extension": "ps1",
   "mimetype": "application/x-powershell",
   "name": "powershell",
   "nbconvert_exporter": "script",
   "pygments_lexer": "powershell",
   "version": "5.1.0"
  }
 },
 "nbformat": 4,
 "nbformat_minor": 5
}
